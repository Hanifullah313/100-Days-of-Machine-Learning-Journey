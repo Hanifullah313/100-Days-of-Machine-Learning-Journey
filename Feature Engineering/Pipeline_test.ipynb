{
 "cells": [
  {
   "cell_type": "code",
   "execution_count": 3,
   "id": "7250b176-c4f3-4eb2-a704-d7d46f7a1fc5",
   "metadata": {},
   "outputs": [
    {
     "name": "stdout",
     "output_type": "stream",
     "text": [
      "Prediction: [0]\n",
      "Survived? No\n"
     ]
    }
   ],
   "source": [
    "import pickle\n",
    "import pandas as pd\n",
    "\n",
    "# 1. Load your saved pipeline\n",
    "pipe = pickle.load(open(\"pipe.pkl\", \"rb\"))\n",
    "\n",
    "# 2. Create a sample passenger (like Titanic dataset format)\n",
    "sample_passenger = pd.DataFrame([{\n",
    "    \"Pclass\": 1,\n",
    "    \"Sex\": \"male\",\n",
    "    \"Age\": 22,\n",
    "    \"SibSp\": 1,\n",
    "    \"Parch\": 0,\n",
    "    \"Fare\": 7.25,\n",
    "    \"Embarked\": \"S\"\n",
    "}])\n",
    "\n",
    "# 3. Predict survival\n",
    "prediction = pipe.predict(sample_passenger)\n",
    "\n",
    "print(\"Prediction:\", prediction)\n",
    "print(\"Survived?\" , \"Yes\" if prediction[0]==1 else \"No\")\n"
   ]
  },
  {
   "cell_type": "code",
   "execution_count": null,
   "id": "f575f5b5-2963-44c2-9bc9-ccb552ea7e41",
   "metadata": {},
   "outputs": [],
   "source": []
  },
  {
   "cell_type": "code",
   "execution_count": null,
   "id": "399b313b-a3b6-42fe-9a53-9908cfb411d3",
   "metadata": {},
   "outputs": [],
   "source": []
  },
  {
   "cell_type": "code",
   "execution_count": null,
   "id": "ff5f769e-5dcd-4626-8614-6c09f43d8e50",
   "metadata": {},
   "outputs": [],
   "source": []
  }
 ],
 "metadata": {
  "kernelspec": {
   "display_name": "Python (myenv)",
   "language": "python",
   "name": "myenv"
  },
  "language_info": {
   "codemirror_mode": {
    "name": "ipython",
    "version": 3
   },
   "file_extension": ".py",
   "mimetype": "text/x-python",
   "name": "python",
   "nbconvert_exporter": "python",
   "pygments_lexer": "ipython3",
   "version": "3.11.13"
  }
 },
 "nbformat": 4,
 "nbformat_minor": 5
}
