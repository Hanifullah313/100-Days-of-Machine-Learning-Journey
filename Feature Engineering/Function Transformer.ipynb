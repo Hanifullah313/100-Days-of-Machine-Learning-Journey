{
 "cells": [
  {
   "cell_type": "code",
   "execution_count": 14,
   "id": "79e69e8d-3837-4d90-b624-98fdb2207c15",
   "metadata": {},
   "outputs": [
    {
     "name": "stdout",
     "output_type": "stream",
     "text": [
      "Libraries Loaded !! \n"
     ]
    }
   ],
   "source": [
    "import pandas as pd \n",
    "import numpy as np\n",
    "import scipy.stats as stats\n",
    "import matplotlib.pyplot as plt \n",
    "import seaborn as sns\n",
    "from sklearn.model_selection import train_test_split\n",
    "from sklearn.model_selection import cross_val_score\n",
    "from sklearn.metrics import accuracy_score\n",
    "from sklearn.linear_model import LogisticRegression\n",
    "from sklearn.tree import DecisionTreeClassifier\n",
    "from sklearn.preprocessing import FunctionTransformer\n",
    "from sklearn.compose import ColumnTransformer\n",
    "print(\"Libraries Loaded !! \")"
   ]
  },
  {
   "cell_type": "code",
   "execution_count": 15,
   "id": "d0723f10-a39c-4938-812d-07841e72551f",
   "metadata": {},
   "outputs": [
    {
     "data": {
      "text/html": [
       "<div>\n",
       "<style scoped>\n",
       "    .dataframe tbody tr th:only-of-type {\n",
       "        vertical-align: middle;\n",
       "    }\n",
       "\n",
       "    .dataframe tbody tr th {\n",
       "        vertical-align: top;\n",
       "    }\n",
       "\n",
       "    .dataframe thead th {\n",
       "        text-align: right;\n",
       "    }\n",
       "</style>\n",
       "<table border=\"1\" class=\"dataframe\">\n",
       "  <thead>\n",
       "    <tr style=\"text-align: right;\">\n",
       "      <th></th>\n",
       "      <th>Survived</th>\n",
       "      <th>Age</th>\n",
       "      <th>Fare</th>\n",
       "    </tr>\n",
       "  </thead>\n",
       "  <tbody>\n",
       "    <tr>\n",
       "      <th>0</th>\n",
       "      <td>0</td>\n",
       "      <td>22.0</td>\n",
       "      <td>7.2500</td>\n",
       "    </tr>\n",
       "    <tr>\n",
       "      <th>1</th>\n",
       "      <td>1</td>\n",
       "      <td>38.0</td>\n",
       "      <td>71.2833</td>\n",
       "    </tr>\n",
       "    <tr>\n",
       "      <th>2</th>\n",
       "      <td>1</td>\n",
       "      <td>26.0</td>\n",
       "      <td>7.9250</td>\n",
       "    </tr>\n",
       "    <tr>\n",
       "      <th>3</th>\n",
       "      <td>1</td>\n",
       "      <td>35.0</td>\n",
       "      <td>53.1000</td>\n",
       "    </tr>\n",
       "    <tr>\n",
       "      <th>4</th>\n",
       "      <td>0</td>\n",
       "      <td>35.0</td>\n",
       "      <td>8.0500</td>\n",
       "    </tr>\n",
       "  </tbody>\n",
       "</table>\n",
       "</div>"
      ],
      "text/plain": [
       "   Survived   Age     Fare\n",
       "0         0  22.0   7.2500\n",
       "1         1  38.0  71.2833\n",
       "2         1  26.0   7.9250\n",
       "3         1  35.0  53.1000\n",
       "4         0  35.0   8.0500"
      ]
     },
     "execution_count": 15,
     "metadata": {},
     "output_type": "execute_result"
    }
   ],
   "source": [
    "df = pd.read_csv(\"train.csv\" , usecols = [\"Age\" ,\"Fare\", \"Survived\"])\n",
    "df.head()"
   ]
  },
  {
   "cell_type": "code",
   "execution_count": 16,
   "id": "c088e0c1-ce74-46c0-b893-f08a8400d1c5",
   "metadata": {},
   "outputs": [
    {
     "data": {
      "text/plain": [
       "Survived      0\n",
       "Age         177\n",
       "Fare          0\n",
       "dtype: int64"
      ]
     },
     "execution_count": 16,
     "metadata": {},
     "output_type": "execute_result"
    }
   ],
   "source": [
    "df.isnull().sum()"
   ]
  },
  {
   "cell_type": "code",
   "execution_count": 17,
   "id": "31ee9c33-842f-4611-94dd-6c12396df6ed",
   "metadata": {},
   "outputs": [],
   "source": [
    "df[\"Age\"]=df[\"Age\"].fillna(df[\"Age\"].mean())"
   ]
  },
  {
   "cell_type": "code",
   "execution_count": 42,
   "id": "d8467db6-579c-4163-b7c5-4d817bb89e2d",
   "metadata": {},
   "outputs": [],
   "source": [
    "x = df.iloc[:,1:3].astype(int)\n",
    "\n",
    "# Target = Survived column\n",
    "y = df[\"Survived\"].astype(int)"
   ]
  },
  {
   "cell_type": "code",
   "execution_count": 44,
   "id": "085fb18b-d3c3-4b73-a71e-146569529ec0",
   "metadata": {},
   "outputs": [
    {
     "data": {
      "text/plain": [
       "331    0\n",
       "733    0\n",
       "382    0\n",
       "704    0\n",
       "813    0\n",
       "Name: Survived, dtype: int32"
      ]
     },
     "execution_count": 44,
     "metadata": {},
     "output_type": "execute_result"
    }
   ],
   "source": [
    "x_train , x_test , y_train , y_test = train_test_split(x , y , random_state = 42 , test_size = 0.2)\n",
    "y_train.head()"
   ]
  },
  {
   "cell_type": "code",
   "execution_count": 45,
   "id": "b6082e17-807a-469b-a531-3a28f8c9c518",
   "metadata": {},
   "outputs": [
    {
     "name": "stderr",
     "output_type": "stream",
     "text": [
      "C:\\Users\\Hanif ullah laptop\\AppData\\Local\\Temp\\ipykernel_7972\\273891821.py:3: UserWarning: \n",
      "\n",
      "`distplot` is a deprecated function and will be removed in seaborn v0.14.0.\n",
      "\n",
      "Please adapt your code to use either `displot` (a figure-level function with\n",
      "similar flexibility) or `histplot` (an axes-level function for histograms).\n",
      "\n",
      "For a guide to updating your code to use the new functions, please see\n",
      "https://gist.github.com/mwaskom/de44147ed2974457ad6372750bbe5751\n",
      "\n",
      "  sns.distplot(x_train[\"Age\"])\n"
     ]
    },
    {
     "data": {
      "text/plain": [
       "Text(0.5, 1.0, 'Age QQ plot')"
      ]
     },
     "execution_count": 45,
     "metadata": {},
     "output_type": "execute_result"
    },
    {
     "data": {
      "image/png": "[encoded data removed]",
      "text/plain": [
       "<Figure size 1400x800 with 2 Axes>"
      ]
     },
     "metadata": {},
     "output_type": "display_data"
    }
   ],
   "source": [
    "plt.figure(figsize=(14,8))\n",
    "plt.subplot(121)\n",
    "sns.distplot(x_train[\"Age\"])\n",
    "plt.show\n",
    "plt.title(\"Age Pdf\")\n",
    "\n",
    "plt.subplot(122)\n",
    "stats.probplot(x_train[\"Age\"] , dist = \"norm\" ,  plot = plt)\n",
    "plt.show\n",
    "plt.title(\"Age QQ plot\")"
   ]
  },
  {
   "cell_type": "code",
   "execution_count": 46,
   "id": "19612b8a-9f23-4efd-ab04-ea549bd82c7e",
   "metadata": {},
   "outputs": [
    {
     "name": "stderr",
     "output_type": "stream",
     "text": [
      "C:\\Users\\Hanif ullah laptop\\AppData\\Local\\Temp\\ipykernel_7972\\1902851321.py:2: UserWarning: \n",
      "\n",
      "`distplot` is a deprecated function and will be removed in seaborn v0.14.0.\n",
      "\n",
      "Please adapt your code to use either `displot` (a figure-level function with\n",
      "similar flexibility) or `histplot` (an axes-level function for histograms).\n",
      "\n",
      "For a guide to updating your code to use the new functions, please see\n",
      "https://gist.github.com/mwaskom/de44147ed2974457ad6372750bbe5751\n",
      "\n",
      "  sns.distplot(x_train[\"Fare\"])\n"
     ]
    },
    {
     "data": {
      "text/plain": [
       "Text(0.5, 1.0, ' QQ plot')"
      ]
     },
     "execution_count": 46,
     "metadata": {},
     "output_type": "execute_result"
    },
    {
     "data": {
      "image/png": "[encoded data removed]",
      "text/plain": [
       "<Figure size 640x480 with 2 Axes>"
      ]
     },
     "metadata": {},
     "output_type": "display_data"
    }
   ],
   "source": [
    "plt.subplot(223)\n",
    "sns.distplot(x_train[\"Fare\"])\n",
    "plt.show\n",
    "plt.title(\"Fare Pdf\")\n",
    "\n",
    "plt.subplot(224)\n",
    "stats.probplot(x_train[\"Fare\"] , dist = \"norm\" ,  plot = plt)\n",
    "plt.show\n",
    "plt.title(\" QQ plot\")"
   ]
  },
  {
   "cell_type": "code",
   "execution_count": 47,
   "id": "d4b63945-2cb6-46e9-a504-a1b797728bd0",
   "metadata": {},
   "outputs": [],
   "source": [
    "clf = LogisticRegression(max_iter=200)\n",
    "clf2 = DecisionTreeClassifier()"
   ]
  },
  {
   "cell_type": "code",
   "execution_count": 48,
   "id": "6bab82e0-7f55-44a3-b813-ca2ef4f042d7",
   "metadata": {},
   "outputs": [
    {
     "name": "stdout",
     "output_type": "stream",
     "text": [
      "LogReg accuracy: 0.6480446927374302\n",
      "DecisionTree accuracy: 0.6424581005586593\n"
     ]
    }
   ],
   "source": [
    "clf1.fit(x_train, y_train)\n",
    "clf2.fit(x_train, y_train)\n",
    "\n",
    "# Evaluate\n",
    "print(\"LogReg accuracy:\", accuracy_score(y_test, clf1.predict(x_test)))\n",
    "print(\"DecisionTree accuracy:\", accuracy_score(y_test, clf2.predict(x_test)))"
   ]
  },
  {
   "cell_type": "code",
   "execution_count": 49,
   "id": "2ec4fbdd-41ab-4cf3-ad13-17d2ee7962e7",
   "metadata": {},
   "outputs": [],
   "source": [
    "clf3 = FunctionTransformer(np.log1p)"
   ]
  },
  {
   "cell_type": "code",
   "execution_count": 54,
   "id": "8c6aca84-8ce1-485f-8144-2e2a9345af86",
   "metadata": {},
   "outputs": [],
   "source": [
    "x_train_transformed = clf3.fit_transform(x_train)\n",
    "x_test_transformed = clf3.fit_transform(x_test)"
   ]
  },
  {
   "cell_type": "code",
   "execution_count": 55,
   "id": "04809dd2-816a-4415-a947-d366162d12cc",
   "metadata": {},
   "outputs": [
    {
     "name": "stdout",
     "output_type": "stream",
     "text": [
      "LogReg accuracy: 0.6815642458100558\n",
      "DecisionTree accuracy: 0.6424581005586593\n"
     ]
    }
   ],
   "source": [
    "clf1.fit(x_train_transformed, y_train)\n",
    "clf2.fit(x_train_transformed, y_train)\n",
    "\n",
    "# Evaluate\n",
    "print(\"LogReg accuracy:\", accuracy_score(y_test, clf1.predict(x_test_transformed)))\n",
    "print(\"DecisionTree accuracy:\", accuracy_score(y_test, clf2.predict(x_test_transformed)))"
   ]
  },
  {
   "cell_type": "code",
   "execution_count": 59,
   "id": "8592deae-2c22-421f-b009-01913c46809c",
   "metadata": {},
   "outputs": [
    {
     "name": "stdout",
     "output_type": "stream",
     "text": [
      "LR 0.6791510611735331\n",
      "DT 0.6656054931335831\n"
     ]
    }
   ],
   "source": [
    "x_transformed = clf3.fit_transform(x)\n",
    "clf = LogisticRegression(max_iter=200)\n",
    "clf2 = DecisionTreeClassifier()\n",
    "print(\"LR\", np.mean(cross_val_score(clf1,x_transformed,y, scoring=\"accuracy\", cv=10 )))\n",
    "print(\"DT\", np.mean(cross_val_score(clf2,x_transformed,y, scoring=\"accuracy\", cv=10 )))"
   ]
  },
  {
   "cell_type": "code",
   "execution_count": null,
   "id": "8c4a2b43-36fb-43a5-887e-e44b311e9316",
   "metadata": {},
   "outputs": [],
   "source": []
  },
  {
   "cell_type": "code",
   "execution_count": null,
   "id": "4f786b28-e4cc-4a64-a4f8-d0e1252a792d",
   "metadata": {},
   "outputs": [],
   "source": []
  },
  {
   "cell_type": "code",
   "execution_count": null,
   "id": "be2b9e28-c51b-4a7e-9d7a-ffb4744134ce",
   "metadata": {},
   "outputs": [],
   "source": []
  },
  {
   "cell_type": "code",
   "execution_count": null,
   "id": "733706b7-4838-4a76-892c-7da90889ed6d",
   "metadata": {},
   "outputs": [],
   "source": []
  },
  {
   "cell_type": "code",
   "execution_count": null,
   "id": "4802ce80-16f6-453c-aec6-c8779edaca68",
   "metadata": {},
   "outputs": [],
   "source": []
  },
  {
   "cell_type": "code",
   "execution_count": null,
   "id": "7679ac1c-b8c4-4aef-bb6c-16e13e6c87f8",
   "metadata": {},
   "outputs": [],
   "source": []
  },
  {
   "cell_type": "code",
   "execution_count": null,
   "id": "65006783-fd8b-439d-8e66-c5164ca381ff",
   "metadata": {},
   "outputs": [],
   "source": []
  },
  {
   "cell_type": "code",
   "execution_count": null,
   "id": "9f431930-6a2b-48cb-8a59-3872c320cb9f",
   "metadata": {},
   "outputs": [],
   "source": []
  },
  {
   "cell_type": "code",
   "execution_count": null,
   "id": "663de109-f0f9-43b0-b3d3-6b0f22a62b02",
   "metadata": {},
   "outputs": [],
   "source": []
  },
  {
   "cell_type": "code",
   "execution_count": null,
   "id": "9bae2ae7-4e0d-404d-be14-e5c71b0df525",
   "metadata": {},
   "outputs": [],
   "source": []
  },
  {
   "cell_type": "code",
   "execution_count": null,
   "id": "ff6b2083-dc09-428b-b58d-8f6219d0c044",
   "metadata": {},
   "outputs": [],
   "source": []
  },
  {
   "cell_type": "code",
   "execution_count": null,
   "id": "b3373934-a328-44dc-ae76-c0a56c051e11",
   "metadata": {},
   "outputs": [],
   "source": []
  },
  {
   "cell_type": "code",
   "execution_count": null,
   "id": "babbf9a3-f5d7-4885-a214-146125c3a580",
   "metadata": {},
   "outputs": [],
   "source": []
  },
  {
   "cell_type": "code",
   "execution_count": null,
   "id": "26e03024-aa1c-4377-a150-7767d38aa096",
   "metadata": {},
   "outputs": [],
   "source": []
  },
  {
   "cell_type": "code",
   "execution_count": null,
   "id": "b804f000-4614-46a5-91b5-1734a06a4543",
   "metadata": {},
   "outputs": [],
   "source": []
  },
  {
   "cell_type": "code",
   "execution_count": null,
   "id": "cd088534-4c0f-4259-befb-b3ca9ca8e132",
   "metadata": {},
   "outputs": [],
   "source": []
  },
  {
   "cell_type": "code",
   "execution_count": null,
   "id": "8f8e4383-c7c7-47f3-9c61-32452efc0697",
   "metadata": {},
   "outputs": [],
   "source": []
  },
  {
   "cell_type": "code",
   "execution_count": null,
   "id": "496aa8e7-4562-43cf-beb6-29c43ceff6e6",
   "metadata": {},
   "outputs": [],
   "source": []
  },
  {
   "cell_type": "code",
   "execution_count": null,
   "id": "66e31381-24d1-414d-985f-44481c89aaf7",
   "metadata": {},
   "outputs": [],
   "source": []
  },
  {
   "cell_type": "code",
   "execution_count": null,
   "id": "bfc29d85-0ecd-4b25-a58b-0f08405f7eec",
   "metadata": {},
   "outputs": [],
   "source": []
  },
  {
   "cell_type": "code",
   "execution_count": null,
   "id": "792fa857-fb75-4fed-ba24-d1a9f4986bf5",
   "metadata": {},
   "outputs": [],
   "source": []
  },
  {
   "cell_type": "code",
   "execution_count": null,
   "id": "80b9a16b-98e3-4e64-ba3e-c0c1a004fb42",
   "metadata": {},
   "outputs": [],
   "source": []
  },
  {
   "cell_type": "code",
   "execution_count": null,
   "id": "d5b61fa7-e4ab-4ff3-a20b-c0508acb066d",
   "metadata": {},
   "outputs": [],
   "source": []
  },
  {
   "cell_type": "code",
   "execution_count": null,
   "id": "8182b6ba-3d04-49f2-ae46-2aa2ea1a8bcd",
   "metadata": {},
   "outputs": [],
   "source": []
  },
  {
   "cell_type": "code",
   "execution_count": null,
   "id": "5789dc04-e5bf-4d22-a199-59ee5c863b94",
   "metadata": {},
   "outputs": [],
   "source": []
  },
  {
   "cell_type": "code",
   "execution_count": null,
   "id": "5e191b75-7743-414a-9acb-adc1f0a55e8f",
   "metadata": {},
   "outputs": [],
   "source": []
  },
  {
   "cell_type": "code",
   "execution_count": null,
   "id": "2bc645cd-923c-444d-aa45-a2b7498e58fa",
   "metadata": {},
   "outputs": [],
   "source": []
  },
  {
   "cell_type": "code",
   "execution_count": null,
   "id": "49f41a50-b910-45b7-b038-351c7b455a58",
   "metadata": {},
   "outputs": [],
   "source": []
  },
  {
   "cell_type": "code",
   "execution_count": null,
   "id": "44b1e9f5-006e-424c-9c42-832cb35ffec2",
   "metadata": {},
   "outputs": [],
   "source": []
  },
  {
   "cell_type": "code",
   "execution_count": null,
   "id": "f182d445-0476-4f90-8a95-9768628113a1",
   "metadata": {},
   "outputs": [],
   "source": []
  },
  {
   "cell_type": "code",
   "execution_count": null,
   "id": "42857402-26cd-43f5-a1b9-0eb908261e90",
   "metadata": {},
   "outputs": [],
   "source": []
  },
  {
   "cell_type": "code",
   "execution_count": null,
   "id": "6faf6cb0-e33d-4d5f-a7ed-c360780ed666",
   "metadata": {},
   "outputs": [],
   "source": []
  },
  {
   "cell_type": "code",
   "execution_count": null,
   "id": "aa38777a-0df5-4d70-895b-0c7ac25f6c32",
   "metadata": {},
   "outputs": [],
   "source": []
  },
  {
   "cell_type": "code",
   "execution_count": null,
   "id": "43e3cd7f-27c7-4837-a007-60930413d3bd",
   "metadata": {},
   "outputs": [],
   "source": []
  },
  {
   "cell_type": "code",
   "execution_count": null,
   "id": "8d0f525a-8b6e-43e4-b417-4370d2b744eb",
   "metadata": {},
   "outputs": [],
   "source": []
  },
  {
   "cell_type": "code",
   "execution_count": null,
   "id": "8d9ecfbf-15d3-4759-8319-2d2daf47512b",
   "metadata": {},
   "outputs": [],
   "source": []
  },
  {
   "cell_type": "code",
   "execution_count": null,
   "id": "200390f1-21e0-48c4-83fc-b5ba1af8b580",
   "metadata": {},
   "outputs": [],
   "source": []
  },
  {
   "cell_type": "code",
   "execution_count": null,
   "id": "453d92d6-3e8e-4673-ae13-a4fd839391e6",
   "metadata": {},
   "outputs": [],
   "source": []
  },
  {
   "cell_type": "code",
   "execution_count": null,
   "id": "c6f67484-b4f6-4602-838e-b0fc149f9441",
   "metadata": {},
   "outputs": [],
   "source": []
  },
  {
   "cell_type": "code",
   "execution_count": null,
   "id": "cadc0685-502e-40df-af45-a548b870a60a",
   "metadata": {},
   "outputs": [],
   "source": []
  },
  {
   "cell_type": "code",
   "execution_count": 43,
   "id": "b697afca-d58e-43e4-8b13-69a1d3a0d5a3",
   "metadata": {},
   "outputs": [
    {
     "ename": "NameError",
     "evalue": "name 'LogisticRegression' is not defined",
     "output_type": "error",
     "traceback": [
      "\u001b[31m---------------------------------------------------------------------------\u001b[39m",
      "\u001b[31mNameError\u001b[39m                                 Traceback (most recent call last)",
      "\u001b[36mCell\u001b[39m\u001b[36m \u001b[39m\u001b[32mIn[43]\u001b[39m\u001b[32m, line 1\u001b[39m\n\u001b[32m----> \u001b[39m\u001b[32m1\u001b[39m clf1 = LogisticRegression()\n\u001b[32m      2\u001b[39m clf2 = DecisionTreeClassifier()\n",
      "\u001b[31mNameError\u001b[39m: name 'LogisticRegression' is not defined"
     ]
    }
   ],
   "source": [
    "C"
   ]
  },
  {
   "cell_type": "code",
   "execution_count": null,
   "id": "6e41b770-6ddc-4944-882a-91a046f583ca",
   "metadata": {},
   "outputs": [],
   "source": []
  }
 ],
 "metadata": {
  "kernelspec": {
   "display_name": "Python (myenv)",
   "language": "python",
   "name": "myenv"
  },
  "language_info": {
   "codemirror_mode": {
    "name": "ipython",
    "version": 3
   },
   "file_extension": ".py",
   "mimetype": "text/x-python",
   "name": "python",
   "nbconvert_exporter": "python",
   "pygments_lexer": "ipython3",
   "version": "3.11.13"
  }
 },
 "nbformat": 4,
 "nbformat_minor": 5
}
