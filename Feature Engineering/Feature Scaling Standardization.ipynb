{
 "cells": [
  {
   "cell_type": "code",
   "execution_count": 1,
   "id": "765b9012-35f7-4bbd-88ec-c37836d363ff",
   "metadata": {},
   "outputs": [
    {
     "name": "stdout",
     "output_type": "stream",
     "text": [
      "Original Dataset:\n",
      "    Age  Salary\n",
      "0   18   20000\n",
      "1   22   25000\n",
      "2   25   30000\n",
      "3   30   40000\n",
      "4   35   50000\n",
      "5   40   60000\n",
      "6   45   80000\n",
      "7   50  100000\n",
      "\n",
      "Standardized Dataset:\n",
      "         Age    Salary\n",
      "0 -1.422152 -1.165676\n",
      "1 -1.046046 -0.975361\n",
      "2 -0.763966 -0.785047\n",
      "3 -0.293833 -0.404418\n",
      "4  0.176300 -0.023789\n",
      "5  0.646433  0.356840\n",
      "6  1.116566  1.118097\n",
      "7  1.586699  1.879355\n",
      "\n",
      "Original Mean:\n",
      " Age          33.125\n",
      "Salary    50625.000\n",
      "dtype: float64\n",
      "Original Std:\n",
      " Age          11.369602\n",
      "Salary    28086.282875\n",
      "dtype: float64\n",
      "\n",
      "Standardized Mean (approx 0):\n",
      " Age      -5.551115e-17\n",
      "Salary    5.551115e-17\n",
      "dtype: float64\n",
      "Standardized Std (approx 1):\n",
      " Age       1.069045\n",
      "Salary    1.069045\n",
      "dtype: float64\n",
      "\n",
      "Standardized New Data (Age=28, Salary=45000): [[-0.48188629 -0.21410373]]\n"
     ]
    },
    {
     "name": "stderr",
     "output_type": "stream",
     "text": [
      "C:\\Users\\Hanif ullah laptop\\miniconda3\\envs\\myenv\\Lib\\site-packages\\sklearn\\utils\\validation.py:2749: UserWarning: X does not have valid feature names, but StandardScaler was fitted with feature names\n",
      "  warnings.warn(\n"
     ]
    }
   ],
   "source": [
    "# Feature Scaling - Standardization (Z-score Normalization)\n",
    "\n",
    "# --- Step 1: Import Libraries ---\n",
    "import numpy as np\n",
    "import pandas as pd\n",
    "from sklearn.preprocessing import StandardScaler\n",
    "\n",
    "# --- Step 2: Create Sample Dataset ---\n",
    "data = {\n",
    "    'Age': [18, 22, 25, 30, 35, 40, 45, 50],\n",
    "    'Salary': [20000, 25000, 30000, 40000, 50000, 60000, 80000, 100000]\n",
    "}\n",
    "\n",
    "df = pd.DataFrame(data)\n",
    "print(\"Original Dataset:\\n\", df)\n",
    "\n",
    "# --- Step 3: Apply Standardization ---\n",
    "scaler = StandardScaler()\n",
    "scaled_data = scaler.fit_transform(df)\n",
    "\n",
    "scaled_df = pd.DataFrame(scaled_data, columns=df.columns)\n",
    "print(\"\\nStandardized Dataset:\\n\", scaled_df)\n",
    "\n",
    "# --- Step 4: Compare Mean and Standard Deviation ---\n",
    "print(\"\\nOriginal Mean:\\n\", df.mean())\n",
    "print(\"Original Std:\\n\", df.std())\n",
    "\n",
    "print(\"\\nStandardized Mean (approx 0):\\n\", scaled_df.mean())\n",
    "print(\"Standardized Std (approx 1):\\n\", scaled_df.std())\n",
    "\n",
    "# --- Step 5: Example - Standardizing New Data ---\n",
    "new_data = [[28, 45000]]\n",
    "new_scaled = scaler.transform(new_data)\n",
    "print(\"\\nStandardized New Data (Age=28, Salary=45000):\", new_scaled)\n"
   ]
  },
  {
   "cell_type": "code",
   "execution_count": null,
   "id": "3b147779-be33-4158-93c5-13b359a33b2c",
   "metadata": {},
   "outputs": [],
   "source": []
  },
  {
   "cell_type": "code",
   "execution_count": null,
   "id": "1ab6c661-76c9-4210-b75a-fb3f913ff9b2",
   "metadata": {},
   "outputs": [],
   "source": [
    "    "
   ]
  }
 ],
 "metadata": {
  "kernelspec": {
   "display_name": "Python (myenv)",
   "language": "python",
   "name": "myenv"
  },
  "language_info": {
   "codemirror_mode": {
    "name": "ipython",
    "version": 3
   },
   "file_extension": ".py",
   "mimetype": "text/x-python",
   "name": "python",
   "nbconvert_exporter": "python",
   "pygments_lexer": "ipython3",
   "version": "3.11.13"
  }
 },
 "nbformat": 4,
 "nbformat_minor": 5
}
