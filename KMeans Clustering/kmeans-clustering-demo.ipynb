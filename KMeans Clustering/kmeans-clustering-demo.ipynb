{
 "cells": [
  {
   "cell_type": "code",
   "execution_count": 1,
   "id": "b636cf7b-e262-4a65-9c18-f8528954f846",
   "metadata": {},
   "outputs": [],
   "source": [
    "import numpy as np\n",
    "import pandas as pd"
   ]
  },
  {
   "cell_type": "code",
   "execution_count": 3,
   "id": "191a211b-c814-4d80-bf52-a5e9c9b3efd1",
   "metadata": {},
   "outputs": [
    {
     "name": "stdout",
     "output_type": "stream",
     "text": [
      "The shape of data is (200, 2)\n"
     ]
    },
    {
     "data": {
      "text/html": [
       "<div>\n",
       "<style scoped>\n",
       "    .dataframe tbody tr th:only-of-type {\n",
       "        vertical-align: middle;\n",
       "    }\n",
       "\n",
       "    .dataframe tbody tr th {\n",
       "        vertical-align: top;\n",
       "    }\n",
       "\n",
       "    .dataframe thead th {\n",
       "        text-align: right;\n",
       "    }\n",
       "</style>\n",
       "<table border=\"1\" class=\"dataframe\">\n",
       "  <thead>\n",
       "    <tr style=\"text-align: right;\">\n",
       "      <th></th>\n",
       "      <th>cgpa</th>\n",
       "      <th>iq</th>\n",
       "    </tr>\n",
       "  </thead>\n",
       "  <tbody>\n",
       "    <tr>\n",
       "      <th>0</th>\n",
       "      <td>5.13</td>\n",
       "      <td>88</td>\n",
       "    </tr>\n",
       "    <tr>\n",
       "      <th>1</th>\n",
       "      <td>5.90</td>\n",
       "      <td>113</td>\n",
       "    </tr>\n",
       "    <tr>\n",
       "      <th>2</th>\n",
       "      <td>8.36</td>\n",
       "      <td>93</td>\n",
       "    </tr>\n",
       "    <tr>\n",
       "      <th>3</th>\n",
       "      <td>8.27</td>\n",
       "      <td>97</td>\n",
       "    </tr>\n",
       "    <tr>\n",
       "      <th>4</th>\n",
       "      <td>5.45</td>\n",
       "      <td>110</td>\n",
       "    </tr>\n",
       "  </tbody>\n",
       "</table>\n",
       "</div>"
      ],
      "text/plain": [
       "   cgpa   iq\n",
       "0  5.13   88\n",
       "1  5.90  113\n",
       "2  8.36   93\n",
       "3  8.27   97\n",
       "4  5.45  110"
      ]
     },
     "execution_count": 3,
     "metadata": {},
     "output_type": "execute_result"
    }
   ],
   "source": [
    "df = pd.read_csv('student_clustering.csv')\n",
    "print(\"The shape of data is\",df.shape)\n",
    "df.head()"
   ]
  },
  {
   "cell_type": "code",
   "execution_count": 4,
   "id": "2eb325d1-e19d-4079-9a06-a426e36cc9e9",
   "metadata": {
    "scrolled": true
   },
   "outputs": [
    {
     "data": {
      "text/plain": [
       "<matplotlib.collections.PathCollection at 0x1d05f4407d0>"
      ]
     },
     "execution_count": 4,
     "metadata": {},
     "output_type": "execute_result"
    },
    {
     "data": {
      "image/png": "[encoded data removed]",
      "text/plain": [
       "<Figure size 640x480 with 1 Axes>"
      ]
     },
     "metadata": {},
     "output_type": "display_data"
    }
   ],
   "source": [
    "import matplotlib.pyplot as plt\n",
    "plt.scatter(df['cgpa'],df['iq'])"
   ]
  },
  {
   "cell_type": "code",
   "execution_count": 5,
   "id": "4a035f5e-dce1-40c8-b861-a2f40eae2604",
   "metadata": {},
   "outputs": [],
   "source": [
    "from sklearn.cluster import KMeans"
   ]
  },
  {
   "cell_type": "code",
   "execution_count": 9,
   "id": "0235d0f6-0f4a-4da7-82fd-c7d0514e379f",
   "metadata": {},
   "outputs": [
    {
     "name": "stderr",
     "output_type": "stream",
     "text": [
      "C:\\Users\\Hanif ullah laptop\\miniconda3\\envs\\myenv\\Lib\\site-packages\\sklearn\\cluster\\_kmeans.py:1419: UserWarning: KMeans is known to have a memory leak on Windows with MKL, when there are less chunks than available threads. You can avoid it by setting the environment variable OMP_NUM_THREADS=1.\n",
      "  warnings.warn(\n",
      "C:\\Users\\Hanif ullah laptop\\miniconda3\\envs\\myenv\\Lib\\site-packages\\sklearn\\cluster\\_kmeans.py:1419: UserWarning: KMeans is known to have a memory leak on Windows with MKL, when there are less chunks than available threads. You can avoid it by setting the environment variable OMP_NUM_THREADS=1.\n",
      "  warnings.warn(\n",
      "C:\\Users\\Hanif ullah laptop\\miniconda3\\envs\\myenv\\Lib\\site-packages\\sklearn\\cluster\\_kmeans.py:1419: UserWarning: KMeans is known to have a memory leak on Windows with MKL, when there are less chunks than available threads. You can avoid it by setting the environment variable OMP_NUM_THREADS=1.\n",
      "  warnings.warn(\n",
      "C:\\Users\\Hanif ullah laptop\\miniconda3\\envs\\myenv\\Lib\\site-packages\\sklearn\\cluster\\_kmeans.py:1419: UserWarning: KMeans is known to have a memory leak on Windows with MKL, when there are less chunks than available threads. You can avoid it by setting the environment variable OMP_NUM_THREADS=1.\n",
      "  warnings.warn(\n",
      "C:\\Users\\Hanif ullah laptop\\miniconda3\\envs\\myenv\\Lib\\site-packages\\sklearn\\cluster\\_kmeans.py:1419: UserWarning: KMeans is known to have a memory leak on Windows with MKL, when there are less chunks than available threads. You can avoid it by setting the environment variable OMP_NUM_THREADS=1.\n",
      "  warnings.warn(\n",
      "C:\\Users\\Hanif ullah laptop\\miniconda3\\envs\\myenv\\Lib\\site-packages\\sklearn\\cluster\\_kmeans.py:1419: UserWarning: KMeans is known to have a memory leak on Windows with MKL, when there are less chunks than available threads. You can avoid it by setting the environment variable OMP_NUM_THREADS=1.\n",
      "  warnings.warn(\n",
      "C:\\Users\\Hanif ullah laptop\\miniconda3\\envs\\myenv\\Lib\\site-packages\\sklearn\\cluster\\_kmeans.py:1419: UserWarning: KMeans is known to have a memory leak on Windows with MKL, when there are less chunks than available threads. You can avoid it by setting the environment variable OMP_NUM_THREADS=1.\n",
      "  warnings.warn(\n",
      "C:\\Users\\Hanif ullah laptop\\miniconda3\\envs\\myenv\\Lib\\site-packages\\sklearn\\cluster\\_kmeans.py:1419: UserWarning: KMeans is known to have a memory leak on Windows with MKL, when there are less chunks than available threads. You can avoid it by setting the environment variable OMP_NUM_THREADS=1.\n",
      "  warnings.warn(\n",
      "C:\\Users\\Hanif ullah laptop\\miniconda3\\envs\\myenv\\Lib\\site-packages\\sklearn\\cluster\\_kmeans.py:1419: UserWarning: KMeans is known to have a memory leak on Windows with MKL, when there are less chunks than available threads. You can avoid it by setting the environment variable OMP_NUM_THREADS=1.\n",
      "  warnings.warn(\n",
      "C:\\Users\\Hanif ullah laptop\\miniconda3\\envs\\myenv\\Lib\\site-packages\\sklearn\\cluster\\_kmeans.py:1419: UserWarning: KMeans is known to have a memory leak on Windows with MKL, when there are less chunks than available threads. You can avoid it by setting the environment variable OMP_NUM_THREADS=1.\n",
      "  warnings.warn(\n"
     ]
    }
   ],
   "source": [
    "wcss = []\n",
    "for i in range(1,11):\n",
    "    km= KMeans(n_clusters=i)\n",
    "    km.fit_predict(df)\n",
    "    wcss.append(km.inertia_)"
   ]
  },
  {
   "cell_type": "code",
   "execution_count": 10,
   "id": "17625d74-32a6-416d-9b4f-0be2d8e2a8d7",
   "metadata": {},
   "outputs": [
    {
     "data": {
      "text/plain": [
       "[29957.898288,\n",
       " 4184.14127,\n",
       " 2362.7133489999997,\n",
       " 681.96966,\n",
       " 523.7131894763966,\n",
       " 398.4039118468833,\n",
       " 302.5473746759043,\n",
       " 299.91847585931015,\n",
       " 199.17038501369152,\n",
       " 185.0935739981923]"
      ]
     },
     "execution_count": 10,
     "metadata": {},
     "output_type": "execute_result"
    }
   ],
   "source": [
    "wcss"
   ]
  },
  {
   "cell_type": "code",
   "execution_count": 11,
   "id": "8cae8904-611d-46ca-aeff-3c5b51652a71",
   "metadata": {},
   "outputs": [
    {
     "data": {
      "text/plain": [
       "[<matplotlib.lines.Line2D at 0x1d0623db050>]"
      ]
     },
     "execution_count": 11,
     "metadata": {},
     "output_type": "execute_result"
    },
    {
     "data": {
      "image/png": "[encoded data removed]",
      "text/plain": [
       "<Figure size 640x480 with 1 Axes>"
      ]
     },
     "metadata": {},
     "output_type": "display_data"
    }
   ],
   "source": [
    "plt.plot(range(1,11), wcss)"
   ]
  },
  {
   "cell_type": "code",
   "execution_count": 16,
   "id": "f920d049-7b05-42dc-9723-363ababc4118",
   "metadata": {},
   "outputs": [
    {
     "name": "stderr",
     "output_type": "stream",
     "text": [
      "C:\\Users\\Hanif ullah laptop\\miniconda3\\envs\\myenv\\Lib\\site-packages\\sklearn\\cluster\\_kmeans.py:1419: UserWarning: KMeans is known to have a memory leak on Windows with MKL, when there are less chunks than available threads. You can avoid it by setting the environment variable OMP_NUM_THREADS=1.\n",
      "  warnings.warn(\n"
     ]
    }
   ],
   "source": [
    "X = df.iloc[:,:].values\n",
    "km = KMeans(n_clusters=4)\n",
    "y_means = km.fit_predict(X)"
   ]
  },
  {
   "cell_type": "code",
   "execution_count": 17,
   "id": "6fd5b637-de3e-45f2-90f5-f260debd3dfe",
   "metadata": {},
   "outputs": [
    {
     "data": {
      "text/plain": [
       "<matplotlib.collections.PathCollection at 0x1d063585090>"
      ]
     },
     "execution_count": 17,
     "metadata": {},
     "output_type": "execute_result"
    },
    {
     "data": {
      "image/png": "[encoded data removed]",
      "text/plain": [
       "<Figure size 640x480 with 1 Axes>"
      ]
     },
     "metadata": {},
     "output_type": "display_data"
    }
   ],
   "source": [
    "plt.scatter(X[y_means == 0,0],X[y_means == 0,1],color='blue')\n",
    "plt.scatter(X[y_means == 1,0],X[y_means == 1,1],color='red')\n",
    "plt.scatter(X[y_means == 2,0],X[y_means == 2,1],color='green')\n",
    "plt.scatter(X[y_means == 3,0],X[y_means == 3,1],color='yellow')"
   ]
  },
  {
   "cell_type": "code",
   "execution_count": 18,
   "id": "cfaded78-5b2c-43b9-aa47-f32c1795d38d",
   "metadata": {},
   "outputs": [],
   "source": [
    "from sklearn.datasets import make_blobs\n",
    "\n",
    "centroids = [(-5,-5,5),(5,5,-5),(3.5,-2.5,4),(-2.5,2.5,-4)]\n",
    "cluster_std = [1,1,1,1]\n",
    "\n",
    "X,y = make_blobs(n_samples=200,cluster_std=cluster_std,centers=centroids,n_features=3,random_state=1)"
   ]
  },
  {
   "cell_type": "code",
   "execution_count": 19,
   "id": "eb08413b-37cd-49b9-9a88-1fd41d6fd4c0",
   "metadata": {},
   "outputs": [
    {
     "data": {
      "application/vnd.plotly.v1+json": {
       "config": {
        "plotlyServerURL": "https://plot.ly"
       },
       "data": [
        {
         "hovertemplate": "x=%{x}<br>y=%{y}<br>z=%{z}<extra></extra>",
         "legendgroup": "",
         "marker": {
          "color": "#636efa",
          "symbol": "circle"
         },
         "mode": "markers",
         "name": "",
         "scene": "scene",
         "showlegend": false,
         "type": "scatter3d",
         "x": {
          "bdata": "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",
          "dtype": "f8"
         },
         "y": {
          "bdata": "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",
          "dtype": "f8"
         },
         "z": {
          "bdata": "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",
          "dtype": "f8"
         }
        }
       ],
       "layout": {
        "legend": {
         "tracegroupgap": 0
        },
        "margin": {
         "t": 60
        },
        "scene": {
         "domain": {
          "x": [
           0,
           1
          ],
          "y": [
           0,
           1
          ]
         },
         "xaxis": {
          "title": {
           "text": "x"
          }
         },
         "yaxis": {
          "title": {
           "text": "y"
          }
         },
         "zaxis": {
          "title": {
           "text": "z"
          }
         }
        },
        "template": {
         "data": {
          "bar": [
           {
            "error_x": {
             "color": "#2a3f5f"
            },
            "error_y": {
             "color": "#2a3f5f"
            },
            "marker": {
             "line": {
              "color": "#E5ECF6",
              "width": 0.5
             },
             "pattern": {
              "fillmode": "overlay",
              "size": 10,
              "solidity": 0.2
             }
            },
            "type": "bar"
           }
          ],
          "barpolar": [
           {
            "marker": {
             "line": {
              "color": "#E5ECF6",
              "width": 0.5
             },
             "pattern": {
              "fillmode": "overlay",
              "size": 10,
              "solidity": 0.2
             }
            },
            "type": "barpolar"
           }
          ],
          "carpet": [
           {
            "aaxis": {
             "endlinecolor": "#2a3f5f",
             "gridcolor": "white",
             "linecolor": "white",
             "minorgridcolor": "white",
             "startlinecolor": "#2a3f5f"
            },
            "baxis": {
             "endlinecolor": "#2a3f5f",
             "gridcolor": "white",
             "linecolor": "white",
             "minorgridcolor": "white",
             "startlinecolor": "#2a3f5f"
            },
            "type": "carpet"
           }
          ],
          "choropleth": [
           {
            "colorbar": {
             "outlinewidth": 0,
             "ticks": ""
            },
            "type": "choropleth"
           }
          ],
          "contour": [
           {
            "colorbar": {
             "outlinewidth": 0,
             "ticks": ""
            },
            "colorscale": [
             [
              0,
              "#0d0887"
             ],
             [
              0.1111111111111111,
              "#46039f"
             ],
             [
              0.2222222222222222,
              "#7201a8"
             ],
             [
              0.3333333333333333,
              "#9c179e"
             ],
             [
              0.4444444444444444,
              "#bd3786"
             ],
             [
              0.5555555555555556,
              "#d8576b"
             ],
             [
              0.6666666666666666,
              "#ed7953"
             ],
             [
              0.7777777777777778,
              "#fb9f3a"
             ],
             [
              0.8888888888888888,
              "#fdca26"
             ],
             [
              1,
              "#f0f921"
             ]
            ],
            "type": "contour"
           }
          ],
          "contourcarpet": [
           {
            "colorbar": {
             "outlinewidth": 0,
             "ticks": ""
            },
            "type": "contourcarpet"
           }
          ],
          "heatmap": [
           {
            "colorbar": {
             "outlinewidth": 0,
             "ticks": ""
            },
            "colorscale": [
             [
              0,
              "#0d0887"
             ],
             [
              0.1111111111111111,
              "#46039f"
             ],
             [
              0.2222222222222222,
              "#7201a8"
             ],
             [
              0.3333333333333333,
              "#9c179e"
             ],
             [
              0.4444444444444444,
              "#bd3786"
             ],
             [
              0.5555555555555556,
              "#d8576b"
             ],
             [
              0.6666666666666666,
              "#ed7953"
             ],
             [
              0.7777777777777778,
              "#fb9f3a"
             ],
             [
              0.8888888888888888,
              "#fdca26"
             ],
             [
              1,
              "#f0f921"
             ]
            ],
            "type": "heatmap"
           }
          ],
          "histogram": [
           {
            "marker": {
             "pattern": {
              "fillmode": "overlay",
              "size": 10,
              "solidity": 0.2
             }
            },
            "type": "histogram"
           }
          ],
          "histogram2d": [
           {
            "colorbar": {
             "outlinewidth": 0,
             "ticks": ""
            },
            "colorscale": [
             [
              0,
              "#0d0887"
             ],
             [
              0.1111111111111111,
              "#46039f"
             ],
             [
              0.2222222222222222,
              "#7201a8"
             ],
             [
              0.3333333333333333,
              "#9c179e"
             ],
             [
              0.4444444444444444,
              "#bd3786"
             ],
             [
              0.5555555555555556,
              "#d8576b"
             ],
             [
              0.6666666666666666,
              "#ed7953"
             ],
             [
              0.7777777777777778,
              "#fb9f3a"
             ],
             [
              0.8888888888888888,
              "#fdca26"
             ],
             [
              1,
              "#f0f921"
             ]
            ],
            "type": "histogram2d"
           }
          ],
          "histogram2dcontour": [
           {
            "colorbar": {
             "outlinewidth": 0,
             "ticks": ""
            },
            "colorscale": [
             [
              0,
              "#0d0887"
             ],
             [
              0.1111111111111111,
              "#46039f"
             ],
             [
              0.2222222222222222,
              "#7201a8"
             ],
             [
              0.3333333333333333,
              "#9c179e"
             ],
             [
              0.4444444444444444,
              "#bd3786"
             ],
             [
              0.5555555555555556,
              "#d8576b"
             ],
             [
              0.6666666666666666,
              "#ed7953"
             ],
             [
              0.7777777777777778,
              "#fb9f3a"
             ],
             [
              0.8888888888888888,
              "#fdca26"
             ],
             [
              1,
              "#f0f921"
             ]
            ],
            "type": "histogram2dcontour"
           }
          ],
          "mesh3d": [
           {
            "colorbar": {
             "outlinewidth": 0,
             "ticks": ""
            },
            "type": "mesh3d"
           }
          ],
          "parcoords": [
           {
            "line": {
             "colorbar": {
              "outlinewidth": 0,
              "ticks": ""
             }
            },
            "type": "parcoords"
           }
          ],
          "pie": [
           {
            "automargin": true,
            "type": "pie"
           }
          ],
          "scatter": [
           {
            "fillpattern": {
             "fillmode": "overlay",
             "size": 10,
             "solidity": 0.2
            },
            "type": "scatter"
           }
          ],
          "scatter3d": [
           {
            "line": {
             "colorbar": {
              "outlinewidth": 0,
              "ticks": ""
             }
            },
            "marker": {
             "colorbar": {
              "outlinewidth": 0,
              "ticks": ""
             }
            },
            "type": "scatter3d"
           }
          ],
          "scattercarpet": [
           {
            "marker": {
             "colorbar": {
              "outlinewidth": 0,
              "ticks": ""
             }
            },
            "type": "scattercarpet"
           }
          ],
          "scattergeo": [
           {
            "marker": {
             "colorbar": {
              "outlinewidth": 0,
              "ticks": ""
             }
            },
            "type": "scattergeo"
           }
          ],
          "scattergl": [
           {
            "marker": {
             "colorbar": {
              "outlinewidth": 0,
              "ticks": ""
             }
            },
            "type": "scattergl"
           }
          ],
          "scattermap": [
           {
            "marker": {
             "colorbar": {
              "outlinewidth": 0,
              "ticks": ""
             }
            },
            "type": "scattermap"
           }
          ],
          "scattermapbox": [
           {
            "marker": {
             "colorbar": {
              "outlinewidth": 0,
              "ticks": ""
             }
            },
            "type": "scattermapbox"
           }
          ],
          "scatterpolar": [
           {
            "marker": {
             "colorbar": {
              "outlinewidth": 0,
              "ticks": ""
             }
            },
            "type": "scatterpolar"
           }
          ],
          "scatterpolargl": [
           {
            "marker": {
             "colorbar": {
              "outlinewidth": 0,
              "ticks": ""
             }
            },
            "type": "scatterpolargl"
           }
          ],
          "scatterternary": [
           {
            "marker": {
             "colorbar": {
              "outlinewidth": 0,
              "ticks": ""
             }
            },
            "type": "scatterternary"
           }
          ],
          "surface": [
           {
            "colorbar": {
             "outlinewidth": 0,
             "ticks": ""
            },
            "colorscale": [
             [
              0,
              "#0d0887"
             ],
             [
              0.1111111111111111,
              "#46039f"
             ],
             [
              0.2222222222222222,
              "#7201a8"
             ],
             [
              0.3333333333333333,
              "#9c179e"
             ],
             [
              0.4444444444444444,
              "#bd3786"
             ],
             [
              0.5555555555555556,
              "#d8576b"
             ],
             [
              0.6666666666666666,
              "#ed7953"
             ],
             [
              0.7777777777777778,
              "#fb9f3a"
             ],
             [
              0.8888888888888888,
              "#fdca26"
             ],
             [
              1,
              "#f0f921"
             ]
            ],
            "type": "surface"
           }
          ],
          "table": [
           {
            "cells": {
             "fill": {
              "color": "#EBF0F8"
             },
             "line": {
              "color": "white"
             }
            },
            "header": {
             "fill": {
              "color": "#C8D4E3"
             },
             "line": {
              "color": "white"
             }
            },
            "type": "table"
           }
          ]
         },
         "layout": {
          "annotationdefaults": {
           "arrowcolor": "#2a3f5f",
           "arrowhead": 0,
           "arrowwidth": 1
          },
          "autotypenumbers": "strict",
          "coloraxis": {
           "colorbar": {
            "outlinewidth": 0,
            "ticks": ""
           }
          },
          "colorscale": {
           "diverging": [
            [
             0,
             "#8e0152"
            ],
            [
             0.1,
             "#c51b7d"
            ],
            [
             0.2,
             "#de77ae"
            ],
            [
             0.3,
             "#f1b6da"
            ],
            [
             0.4,
             "#fde0ef"
            ],
            [
             0.5,
             "#f7f7f7"
            ],
            [
             0.6,
             "#e6f5d0"
            ],
            [
             0.7,
             "#b8e186"
            ],
            [
             0.8,
             "#7fbc41"
            ],
            [
             0.9,
             "#4d9221"
            ],
            [
             1,
             "#276419"
            ]
           ],
           "sequential": [
            [
             0,
             "#0d0887"
            ],
            [
             0.1111111111111111,
             "#46039f"
            ],
            [
             0.2222222222222222,
             "#7201a8"
            ],
            [
             0.3333333333333333,
             "#9c179e"
            ],
            [
             0.4444444444444444,
             "#bd3786"
            ],
            [
             0.5555555555555556,
             "#d8576b"
            ],
            [
             0.6666666666666666,
             "#ed7953"
            ],
            [
             0.7777777777777778,
             "#fb9f3a"
            ],
            [
             0.8888888888888888,
             "#fdca26"
            ],
            [
             1,
             "#f0f921"
            ]
           ],
           "sequentialminus": [
            [
             0,
             "#0d0887"
            ],
            [
             0.1111111111111111,
             "#46039f"
            ],
            [
             0.2222222222222222,
             "#7201a8"
            ],
            [
             0.3333333333333333,
             "#9c179e"
            ],
            [
             0.4444444444444444,
             "#bd3786"
            ],
            [
             0.5555555555555556,
             "#d8576b"
            ],
            [
             0.6666666666666666,
             "#ed7953"
            ],
            [
             0.7777777777777778,
             "#fb9f3a"
            ],
            [
             0.8888888888888888,
             "#fdca26"
            ],
            [
             1,
             "#f0f921"
            ]
           ]
          },
          "colorway": [
           "#636efa",
           "#EF553B",
           "#00cc96",
           "#ab63fa",
           "#FFA15A",
           "#19d3f3",
           "#FF6692",
           "#B6E880",
           "#FF97FF",
           "#FECB52"
          ],
          "font": {
           "color": "#2a3f5f"
          },
          "geo": {
           "bgcolor": "white",
           "lakecolor": "white",
           "landcolor": "#E5ECF6",
           "showlakes": true,
           "showland": true,
           "subunitcolor": "white"
          },
          "hoverlabel": {
           "align": "left"
          },
          "hovermode": "closest",
          "mapbox": {
           "style": "light"
          },
          "paper_bgcolor": "white",
          "plot_bgcolor": "#E5ECF6",
          "polar": {
           "angularaxis": {
            "gridcolor": "white",
            "linecolor": "white",
            "ticks": ""
           },
           "bgcolor": "#E5ECF6",
           "radialaxis": {
            "gridcolor": "white",
            "linecolor": "white",
            "ticks": ""
           }
          },
          "scene": {
           "xaxis": {
            "backgroundcolor": "#E5ECF6",
            "gridcolor": "white",
            "gridwidth": 2,
            "linecolor": "white",
            "showbackground": true,
            "ticks": "",
            "zerolinecolor": "white"
           },
           "yaxis": {
            "backgroundcolor": "#E5ECF6",
            "gridcolor": "white",
            "gridwidth": 2,
            "linecolor": "white",
            "showbackground": true,
            "ticks": "",
            "zerolinecolor": "white"
           },
           "zaxis": {
            "backgroundcolor": "#E5ECF6",
            "gridcolor": "white",
            "gridwidth": 2,
            "linecolor": "white",
            "showbackground": true,
            "ticks": "",
            "zerolinecolor": "white"
           }
          },
          "shapedefaults": {
           "line": {
            "color": "#2a3f5f"
           }
          },
          "ternary": {
           "aaxis": {
            "gridcolor": "white",
            "linecolor": "white",
            "ticks": ""
           },
           "baxis": {
            "gridcolor": "white",
            "linecolor": "white",
            "ticks": ""
           },
           "bgcolor": "#E5ECF6",
           "caxis": {
            "gridcolor": "white",
            "linecolor": "white",
            "ticks": ""
           }
          },
          "title": {
           "x": 0.05
          },
          "xaxis": {
           "automargin": true,
           "gridcolor": "white",
           "linecolor": "white",
           "ticks": "",
           "title": {
            "standoff": 15
           },
           "zerolinecolor": "white",
           "zerolinewidth": 2
          },
          "yaxis": {
           "automargin": true,
           "gridcolor": "white",
           "linecolor": "white",
           "ticks": "",
           "title": {
            "standoff": 15
           },
           "zerolinecolor": "white",
           "zerolinewidth": 2
          }
         }
        }
       }
      },
      "image/png": "[encoded data removed]"
     },
     "metadata": {},
     "output_type": "display_data"
    }
   ],
   "source": [
    "import plotly.express as px\n",
    "fig = px.scatter_3d(x=X[:,0], y=X[:,1], z=X[:,2])\n",
    "fig.show()\n"
   ]
  },
  {
   "cell_type": "code",
   "execution_count": 20,
   "id": "9ba1b3cc-015c-4efb-b0ef-4f47b8ac9545",
   "metadata": {},
   "outputs": [
    {
     "name": "stderr",
     "output_type": "stream",
     "text": [
      "C:\\Users\\Hanif ullah laptop\\miniconda3\\envs\\myenv\\Lib\\site-packages\\sklearn\\cluster\\_kmeans.py:1419: UserWarning:\n",
      "\n",
      "KMeans is known to have a memory leak on Windows with MKL, when there are less chunks than available threads. You can avoid it by setting the environment variable OMP_NUM_THREADS=1.\n",
      "\n",
      "C:\\Users\\Hanif ullah laptop\\miniconda3\\envs\\myenv\\Lib\\site-packages\\sklearn\\cluster\\_kmeans.py:1419: UserWarning:\n",
      "\n",
      "KMeans is known to have a memory leak on Windows with MKL, when there are less chunks than available threads. You can avoid it by setting the environment variable OMP_NUM_THREADS=1.\n",
      "\n",
      "C:\\Users\\Hanif ullah laptop\\miniconda3\\envs\\myenv\\Lib\\site-packages\\sklearn\\cluster\\_kmeans.py:1419: UserWarning:\n",
      "\n",
      "KMeans is known to have a memory leak on Windows with MKL, when there are less chunks than available threads. You can avoid it by setting the environment variable OMP_NUM_THREADS=1.\n",
      "\n",
      "C:\\Users\\Hanif ullah laptop\\miniconda3\\envs\\myenv\\Lib\\site-packages\\sklearn\\cluster\\_kmeans.py:1419: UserWarning:\n",
      "\n",
      "KMeans is known to have a memory leak on Windows with MKL, when there are less chunks than available threads. You can avoid it by setting the environment variable OMP_NUM_THREADS=1.\n",
      "\n",
      "C:\\Users\\Hanif ullah laptop\\miniconda3\\envs\\myenv\\Lib\\site-packages\\sklearn\\cluster\\_kmeans.py:1419: UserWarning:\n",
      "\n",
      "KMeans is known to have a memory leak on Windows with MKL, when there are less chunks than available threads. You can avoid it by setting the environment variable OMP_NUM_THREADS=1.\n",
      "\n",
      "C:\\Users\\Hanif ullah laptop\\miniconda3\\envs\\myenv\\Lib\\site-packages\\sklearn\\cluster\\_kmeans.py:1419: UserWarning:\n",
      "\n",
      "KMeans is known to have a memory leak on Windows with MKL, when there are less chunks than available threads. You can avoid it by setting the environment variable OMP_NUM_THREADS=1.\n",
      "\n",
      "C:\\Users\\Hanif ullah laptop\\miniconda3\\envs\\myenv\\Lib\\site-packages\\sklearn\\cluster\\_kmeans.py:1419: UserWarning:\n",
      "\n",
      "KMeans is known to have a memory leak on Windows with MKL, when there are less chunks than available threads. You can avoid it by setting the environment variable OMP_NUM_THREADS=1.\n",
      "\n",
      "C:\\Users\\Hanif ullah laptop\\miniconda3\\envs\\myenv\\Lib\\site-packages\\sklearn\\cluster\\_kmeans.py:1419: UserWarning:\n",
      "\n",
      "KMeans is known to have a memory leak on Windows with MKL, when there are less chunks than available threads. You can avoid it by setting the environment variable OMP_NUM_THREADS=1.\n",
      "\n",
      "C:\\Users\\Hanif ullah laptop\\miniconda3\\envs\\myenv\\Lib\\site-packages\\sklearn\\cluster\\_kmeans.py:1419: UserWarning:\n",
      "\n",
      "KMeans is known to have a memory leak on Windows with MKL, when there are less chunks than available threads. You can avoid it by setting the environment variable OMP_NUM_THREADS=1.\n",
      "\n",
      "C:\\Users\\Hanif ullah laptop\\miniconda3\\envs\\myenv\\Lib\\site-packages\\sklearn\\cluster\\_kmeans.py:1419: UserWarning:\n",
      "\n",
      "KMeans is known to have a memory leak on Windows with MKL, when there are less chunks than available threads. You can avoid it by setting the environment variable OMP_NUM_THREADS=1.\n",
      "\n",
      "C:\\Users\\Hanif ullah laptop\\miniconda3\\envs\\myenv\\Lib\\site-packages\\sklearn\\cluster\\_kmeans.py:1419: UserWarning:\n",
      "\n",
      "KMeans is known to have a memory leak on Windows with MKL, when there are less chunks than available threads. You can avoid it by setting the environment variable OMP_NUM_THREADS=1.\n",
      "\n",
      "C:\\Users\\Hanif ullah laptop\\miniconda3\\envs\\myenv\\Lib\\site-packages\\sklearn\\cluster\\_kmeans.py:1419: UserWarning:\n",
      "\n",
      "KMeans is known to have a memory leak on Windows with MKL, when there are less chunks than available threads. You can avoid it by setting the environment variable OMP_NUM_THREADS=1.\n",
      "\n",
      "C:\\Users\\Hanif ullah laptop\\miniconda3\\envs\\myenv\\Lib\\site-packages\\sklearn\\cluster\\_kmeans.py:1419: UserWarning:\n",
      "\n",
      "KMeans is known to have a memory leak on Windows with MKL, when there are less chunks than available threads. You can avoid it by setting the environment variable OMP_NUM_THREADS=1.\n",
      "\n",
      "C:\\Users\\Hanif ullah laptop\\miniconda3\\envs\\myenv\\Lib\\site-packages\\sklearn\\cluster\\_kmeans.py:1419: UserWarning:\n",
      "\n",
      "KMeans is known to have a memory leak on Windows with MKL, when there are less chunks than available threads. You can avoid it by setting the environment variable OMP_NUM_THREADS=1.\n",
      "\n",
      "C:\\Users\\Hanif ullah laptop\\miniconda3\\envs\\myenv\\Lib\\site-packages\\sklearn\\cluster\\_kmeans.py:1419: UserWarning:\n",
      "\n",
      "KMeans is known to have a memory leak on Windows with MKL, when there are less chunks than available threads. You can avoid it by setting the environment variable OMP_NUM_THREADS=1.\n",
      "\n",
      "C:\\Users\\Hanif ullah laptop\\miniconda3\\envs\\myenv\\Lib\\site-packages\\sklearn\\cluster\\_kmeans.py:1419: UserWarning:\n",
      "\n",
      "KMeans is known to have a memory leak on Windows with MKL, when there are less chunks than available threads. You can avoid it by setting the environment variable OMP_NUM_THREADS=1.\n",
      "\n",
      "C:\\Users\\Hanif ullah laptop\\miniconda3\\envs\\myenv\\Lib\\site-packages\\sklearn\\cluster\\_kmeans.py:1419: UserWarning:\n",
      "\n",
      "KMeans is known to have a memory leak on Windows with MKL, when there are less chunks than available threads. You can avoid it by setting the environment variable OMP_NUM_THREADS=1.\n",
      "\n",
      "C:\\Users\\Hanif ullah laptop\\miniconda3\\envs\\myenv\\Lib\\site-packages\\sklearn\\cluster\\_kmeans.py:1419: UserWarning:\n",
      "\n",
      "KMeans is known to have a memory leak on Windows with MKL, when there are less chunks than available threads. You can avoid it by setting the environment variable OMP_NUM_THREADS=1.\n",
      "\n",
      "C:\\Users\\Hanif ullah laptop\\miniconda3\\envs\\myenv\\Lib\\site-packages\\sklearn\\cluster\\_kmeans.py:1419: UserWarning:\n",
      "\n",
      "KMeans is known to have a memory leak on Windows with MKL, when there are less chunks than available threads. You can avoid it by setting the environment variable OMP_NUM_THREADS=1.\n",
      "\n",
      "C:\\Users\\Hanif ullah laptop\\miniconda3\\envs\\myenv\\Lib\\site-packages\\sklearn\\cluster\\_kmeans.py:1419: UserWarning:\n",
      "\n",
      "KMeans is known to have a memory leak on Windows with MKL, when there are less chunks than available threads. You can avoid it by setting the environment variable OMP_NUM_THREADS=1.\n",
      "\n"
     ]
    }
   ],
   "source": [
    "wcss = []\n",
    "for i in range(1,21):\n",
    "    km = KMeans(n_clusters=i)\n",
    "    km.fit_predict(X)\n",
    "    wcss.append(km.inertia_)"
   ]
  },
  {
   "cell_type": "code",
   "execution_count": 21,
   "id": "fb89253e-deaf-451b-b0d7-d63a10964890",
   "metadata": {},
   "outputs": [
    {
     "data": {
      "text/plain": [
       "[<matplotlib.lines.Line2D at 0x1d066e63b10>]"
      ]
     },
     "execution_count": 21,
     "metadata": {},
     "output_type": "execute_result"
    },
    {
     "data": {
      "image/png": "[encoded data removed]",
      "text/plain": [
       "<Figure size 640x480 with 1 Axes>"
      ]
     },
     "metadata": {},
     "output_type": "display_data"
    }
   ],
   "source": [
    "plt.plot(range(1,21),wcss)"
   ]
  },
  {
   "cell_type": "code",
   "execution_count": 22,
   "id": "ddd73927-8b38-46dc-b4a2-e064c9229229",
   "metadata": {},
   "outputs": [
    {
     "name": "stderr",
     "output_type": "stream",
     "text": [
      "C:\\Users\\Hanif ullah laptop\\miniconda3\\envs\\myenv\\Lib\\site-packages\\sklearn\\cluster\\_kmeans.py:1419: UserWarning:\n",
      "\n",
      "KMeans is known to have a memory leak on Windows with MKL, when there are less chunks than available threads. You can avoid it by setting the environment variable OMP_NUM_THREADS=1.\n",
      "\n"
     ]
    }
   ],
   "source": [
    "km = KMeans(n_clusters=4)\n",
    "y_pred = km.fit_predict(X)"
   ]
  },
  {
   "cell_type": "code",
   "execution_count": 23,
   "id": "4518bee3-5e0f-4bb3-965a-c9a1b5d6387e",
   "metadata": {},
   "outputs": [],
   "source": [
    "df = pd.DataFrame()\n",
    "\n",
    "df['col1'] = X[:,0]\n",
    "df['col2'] = X[:,1]\n",
    "df['col3'] = X[:,2]\n",
    "df['label'] = y_pred"
   ]
  },
  {
   "cell_type": "code",
   "execution_count": 24,
   "id": "761346df-ffa9-4ebf-93c2-eaafd0ca9b32",
   "metadata": {},
   "outputs": [
    {
     "data": {
      "application/vnd.plotly.v1+json": {
       "config": {
        "plotlyServerURL": "https://plot.ly"
       },
       "data": [
        {
         "hovertemplate": "col1=%{x}<br>col2=%{y}<br>col3=%{z}<br>label=%{marker.color}<extra></extra>",
         "legendgroup": "",
         "marker": {
          "color": {
           "bdata": "AQAAAAMAAAAAAAAAAQAAAAMAAAABAAAAAAAAAAMAAAAAAAAAAQAAAAAAAAABAAAAAAAAAAMAAAABAAAAAwAAAAIAAAACAAAAAgAAAAIAAAAAAAAAAgAAAAMAAAAAAAAAAAAAAAEAAAADAAAAAgAAAAEAAAADAAAAAgAAAAEAAAABAAAAAAAAAAMAAAABAAAAAAAAAAMAAAACAAAAAgAAAAAAAAADAAAAAAAAAAEAAAADAAAAAgAAAAIAAAABAAAAAwAAAAAAAAABAAAAAgAAAAIAAAADAAAAAAAAAAAAAAADAAAAAgAAAAIAAAABAAAAAAAAAAMAAAADAAAAAwAAAAIAAAAAAAAAAgAAAAEAAAAAAAAAAwAAAAIAAAABAAAAAQAAAAEAAAAAAAAAAQAAAAEAAAABAAAAAAAAAAIAAAADAAAAAAAAAAMAAAADAAAAAAAAAAMAAAABAAAAAAAAAAAAAAADAAAAAQAAAAMAAAADAAAAAgAAAAMAAAAAAAAAAAAAAAEAAAAAAAAAAAAAAAEAAAAAAAAAAAAAAAEAAAADAAAAAwAAAAMAAAACAAAAAgAAAAMAAAACAAAAAQAAAAIAAAADAAAAAgAAAAMAAAAAAAAAAwAAAAIAAAABAAAAAAAAAAEAAAACAAAAAgAAAAMAAAAAAAAAAgAAAAEAAAACAAAAAAAAAAIAAAAAAAAAAwAAAAAAAAABAAAAAgAAAAIAAAABAAAAAwAAAAMAAAAAAAAAAQAAAAEAAAADAAAAAAAAAAEAAAABAAAAAAAAAAMAAAABAAAAAwAAAAEAAAACAAAAAgAAAAEAAAACAAAAAAAAAAMAAAACAAAAAQAAAAEAAAAAAAAAAAAAAAIAAAACAAAAAAAAAAAAAAACAAAAAgAAAAAAAAABAAAAAAAAAAEAAAACAAAAAQAAAAEAAAADAAAAAgAAAAIAAAAAAAAAAwAAAAMAAAACAAAAAgAAAAIAAAAAAAAAAwAAAAAAAAABAAAAAQAAAAMAAAADAAAAAQAAAAIAAAACAAAAAQAAAAMAAAAAAAAAAgAAAAMAAAA=",
           "dtype": "i4"
          },
          "coloraxis": "coloraxis",
          "symbol": "circle"
         },
         "mode": "markers",
         "name": "",
         "scene": "scene",
         "showlegend": false,
         "type": "scatter3d",
         "x": {
          "bdata": "m66UckRWEUC4A3OtaZQKwAMuV0m4ShjA53Y52l6eG0DgP/2o/N0EwHVGSIklihdAvpo420a9EsDCjKxY9TT9v6i/jC0bYBXAyTBIunapE0Dy3Rm+nWgOwAlglh2qsRJALHkjXJTrGMA+l89X+DcPwAPXH7fM0Q1A/ngC4YR4CsCdvskEMZ8FQK4VS5TtQRBA4Zodf0/FEkAN3IAa/XsQQB/tNAeNdhrAHELZflB2CED2gMYXYsf3v4OfS7wnShXAjYCDlZsQFcBPcAaSrM4UQAepzBz8WQfAzP0xZm16CkDF4Fo0M4QUQLTS035vuAPAJkcFsJ9n9z/OQnQLGwYPQIX/ajIScBBAOxR55UlmGMAqnAzpA0IIwP9DjksnzB1ABSiO19PhEcAWzEEA5nj3v1WK2K6vKghAb140GB2YDkBKYVIQF/0WwAdqusbmN/i/kP8M6/A0E8DCJAeFNzwaQC2kuYoY0ve/oZQrskE8EUCkUTJAFLEMQJJfdpsB+wpA6tXzZAJJ9r/Jkpd5CpkSwI/D0Sp4EQ9AjHbe96iYCkCh5L+INZoLQF3sw4H2rQfAR194KGBDCMCK+X8074sQwDCjAzBR6AzAWnaXHGqWAEASWyYz0XgQQPJ+u6u40wxA3YZyln1hF8DcOi1+UkgDwPGjLJplEgbAvUyvJQSLA8Ct7LvNdrAPQAaVX+q7FhzA+naYrpkzB0CiT4Udaj4XQF8A0+SABBfAoHHLx+40BsDZMW3aHZEIQDBhKw3DpwFAnsj8u8oyEUCTBT3UR3QTQNDlGFPHhhHAkq9Qs9W3FUDC3BAL340NQJqdNWEfmxdAQhQzDfWEE8DSlp5bXYEPQCbprbQHoQrARoOyC2IUE8CkspxXNQUBwPxfznMltOS/yNY2lkiMFsAsNTbqjdD9v6aXaZ0aTRNAHhGd8lr/FMBZMkkW02ISwIpdQ2njTw3AaETfZ0MsGUAy8/OcyNMGwAaA15Dr3QLAEvN/c0JxFkC/DgjhWZf8v8d7OzQgeBjAFOgLWA+OFsA23YenUn4WQE9T7z2S+grAEVlSt0LEFsDQHy3KRsMcQP6grUps8g7AEGQ26199EsBgiXgWMdgUQHMf30w+8wTAiR7neVxlB8BrgRCZFHkGwHxceo3CaRFAxvKPiKVjBkCYwSOJZz0NwGEToy8cjhNAtO6jzc/FE0DpJHlJJdIPQE6vPhf3WAvADoEIHIIRDEBT5QgvIR4FwNhBzTdXAQvAPMUNfBX5AsBkGcMdFw79P6MzhpC3LBRA+7MQ8eTKEMDYKDHuQ4kUQHz9ujFJJQtA9LfyzwpdEUCQWZjUUMzpv1ca8NZ+fhbASNnjs1xDFkC4wsFEZqcRQFh0FnVvDxBAeKfxLzUZFMCyVyRDtTkWQI3Z8YWTzRTAbpmtU2E4BMC3Q3oYm9cOwO7j4+qaIxdAZd8PhLrn+z+JezTSfCsKQJgWs5d3vxxAS93G1t1PBsCi2A7fxvUKwNllKBc3NRHATqh3Uq6kD0C+m7D9FXkMQP2DRsswwAjA3PSyVzq+F8BdFgWfEVgXQBEyn79wwhJAmcCHPz8xFcBWrMpTr9X0v+jugfEhtRNA0IGJBhFzCsClH7dN1AESQKZ0tTsX8A5AZjZ16V9MEUDrXW/vpIQTQDTN4aVYGwxABfxVaY1SE8CHIOX3gRD6v56bzlqIB/o/ktbBsHCZGUDp2/sgyEsXQP4cOCGgCgrA3Khp68XUE8CCdebtDwAGQLzst5Do0Q5AChDsETBoFMCpSxI+H1wTwFySUq1KYvE/UEQoDZ92EkDBh1iTJQgRwE7RMh23YRRAIJ+nIgOWGcAcHhpExAwVQPN3499qSAxAFrsVNcX+FED1F2hSYnkWQICp/DIpJAPAqWSbNYhZCUDL5M/S6JwPQF8CngSGZRDAefEWdd3A/78gKh/xs0f3v/7jETVAigdAcPc5I/oxBkD0hVcP5wASQL3XCi+0aBXADwqPQJtRB8A4QQ4tjUYQwNomTR5oywtAUaWDuSlYDUD0MEVodccJwLd1VV+Y3AzAX8LlcURAFkAEv49zYiz2P3AhXC4ZrhFAjfKp98vZEkAARwuWv4wQwLCrsl7o1RTABaI4u5P0BEBZZIqcTWL2vw==",
          "dtype": "f8"
         },
         "y": {
          "bdata": "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",
          "dtype": "f8"
         },
         "z": {
          "bdata": "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",
          "dtype": "f8"
         }
        }
       ],
       "layout": {
        "coloraxis": {
         "colorbar": {
          "title": {
           "text": "label"
          }
         },
         "colorscale": [
          [
           0,
           "#0d0887"
          ],
          [
           0.1111111111111111,
           "#46039f"
          ],
          [
           0.2222222222222222,
           "#7201a8"
          ],
          [
           0.3333333333333333,
           "#9c179e"
          ],
          [
           0.4444444444444444,
           "#bd3786"
          ],
          [
           0.5555555555555556,
           "#d8576b"
          ],
          [
           0.6666666666666666,
           "#ed7953"
          ],
          [
           0.7777777777777778,
           "#fb9f3a"
          ],
          [
           0.8888888888888888,
           "#fdca26"
          ],
          [
           1,
           "#f0f921"
          ]
         ]
        },
        "legend": {
         "tracegroupgap": 0
        },
        "margin": {
         "t": 60
        },
        "scene": {
         "domain": {
          "x": [
           0,
           1
          ],
          "y": [
           0,
           1
          ]
         },
         "xaxis": {
          "title": {
           "text": "col1"
          }
         },
         "yaxis": {
          "title": {
           "text": "col2"
          }
         },
         "zaxis": {
          "title": {
           "text": "col3"
          }
         }
        },
        "template": {
         "data": {
          "bar": [
           {
            "error_x": {
             "color": "#2a3f5f"
            },
            "error_y": {
             "color": "#2a3f5f"
            },
            "marker": {
             "line": {
              "color": "#E5ECF6",
              "width": 0.5
             },
             "pattern": {
              "fillmode": "overlay",
              "size": 10,
              "solidity": 0.2
             }
            },
            "type": "bar"
           }
          ],
          "barpolar": [
           {
            "marker": {
             "line": {
              "color": "#E5ECF6",
              "width": 0.5
             },
             "pattern": {
              "fillmode": "overlay",
              "size": 10,
              "solidity": 0.2
             }
            },
            "type": "barpolar"
           }
          ],
          "carpet": [
           {
            "aaxis": {
             "endlinecolor": "#2a3f5f",
             "gridcolor": "white",
             "linecolor": "white",
             "minorgridcolor": "white",
             "startlinecolor": "#2a3f5f"
            },
            "baxis": {
             "endlinecolor": "#2a3f5f",
             "gridcolor": "white",
             "linecolor": "white",
             "minorgridcolor": "white",
             "startlinecolor": "#2a3f5f"
            },
            "type": "carpet"
           }
          ],
          "choropleth": [
           {
            "colorbar": {
             "outlinewidth": 0,
             "ticks": ""
            },
            "type": "choropleth"
           }
          ],
          "contour": [
           {
            "colorbar": {
             "outlinewidth": 0,
             "ticks": ""
            },
            "colorscale": [
             [
              0,
              "#0d0887"
             ],
             [
              0.1111111111111111,
              "#46039f"
             ],
             [
              0.2222222222222222,
              "#7201a8"
             ],
             [
              0.3333333333333333,
              "#9c179e"
             ],
             [
              0.4444444444444444,
              "#bd3786"
             ],
             [
              0.5555555555555556,
              "#d8576b"
             ],
             [
              0.6666666666666666,
              "#ed7953"
             ],
             [
              0.7777777777777778,
              "#fb9f3a"
             ],
             [
              0.8888888888888888,
              "#fdca26"
             ],
             [
              1,
              "#f0f921"
             ]
            ],
            "type": "contour"
           }
          ],
          "contourcarpet": [
           {
            "colorbar": {
             "outlinewidth": 0,
             "ticks": ""
            },
            "type": "contourcarpet"
           }
          ],
          "heatmap": [
           {
            "colorbar": {
             "outlinewidth": 0,
             "ticks": ""
            },
            "colorscale": [
             [
              0,
              "#0d0887"
             ],
             [
              0.1111111111111111,
              "#46039f"
             ],
             [
              0.2222222222222222,
              "#7201a8"
             ],
             [
              0.3333333333333333,
              "#9c179e"
             ],
             [
              0.4444444444444444,
              "#bd3786"
             ],
             [
              0.5555555555555556,
              "#d8576b"
             ],
             [
              0.6666666666666666,
              "#ed7953"
             ],
             [
              0.7777777777777778,
              "#fb9f3a"
             ],
             [
              0.8888888888888888,
              "#fdca26"
             ],
             [
              1,
              "#f0f921"
             ]
            ],
            "type": "heatmap"
           }
          ],
          "histogram": [
           {
            "marker": {
             "pattern": {
              "fillmode": "overlay",
              "size": 10,
              "solidity": 0.2
             }
            },
            "type": "histogram"
           }
          ],
          "histogram2d": [
           {
            "colorbar": {
             "outlinewidth": 0,
             "ticks": ""
            },
            "colorscale": [
             [
              0,
              "#0d0887"
             ],
             [
              0.1111111111111111,
              "#46039f"
             ],
             [
              0.2222222222222222,
              "#7201a8"
             ],
             [
              0.3333333333333333,
              "#9c179e"
             ],
             [
              0.4444444444444444,
              "#bd3786"
             ],
             [
              0.5555555555555556,
              "#d8576b"
             ],
             [
              0.6666666666666666,
              "#ed7953"
             ],
             [
              0.7777777777777778,
              "#fb9f3a"
             ],
             [
              0.8888888888888888,
              "#fdca26"
             ],
             [
              1,
              "#f0f921"
             ]
            ],
            "type": "histogram2d"
           }
          ],
          "histogram2dcontour": [
           {
            "colorbar": {
             "outlinewidth": 0,
             "ticks": ""
            },
            "colorscale": [
             [
              0,
              "#0d0887"
             ],
             [
              0.1111111111111111,
              "#46039f"
             ],
             [
              0.2222222222222222,
              "#7201a8"
             ],
             [
              0.3333333333333333,
              "#9c179e"
             ],
             [
              0.4444444444444444,
              "#bd3786"
             ],
             [
              0.5555555555555556,
              "#d8576b"
             ],
             [
              0.6666666666666666,
              "#ed7953"
             ],
             [
              0.7777777777777778,
              "#fb9f3a"
             ],
             [
              0.8888888888888888,
              "#fdca26"
             ],
             [
              1,
              "#f0f921"
             ]
            ],
            "type": "histogram2dcontour"
           }
          ],
          "mesh3d": [
           {
            "colorbar": {
             "outlinewidth": 0,
             "ticks": ""
            },
            "type": "mesh3d"
           }
          ],
          "parcoords": [
           {
            "line": {
             "colorbar": {
              "outlinewidth": 0,
              "ticks": ""
             }
            },
            "type": "parcoords"
           }
          ],
          "pie": [
           {
            "automargin": true,
            "type": "pie"
           }
          ],
          "scatter": [
           {
            "fillpattern": {
             "fillmode": "overlay",
             "size": 10,
             "solidity": 0.2
            },
            "type": "scatter"
           }
          ],
          "scatter3d": [
           {
            "line": {
             "colorbar": {
              "outlinewidth": 0,
              "ticks": ""
             }
            },
            "marker": {
             "colorbar": {
              "outlinewidth": 0,
              "ticks": ""
             }
            },
            "type": "scatter3d"
           }
          ],
          "scattercarpet": [
           {
            "marker": {
             "colorbar": {
              "outlinewidth": 0,
              "ticks": ""
             }
            },
            "type": "scattercarpet"
           }
          ],
          "scattergeo": [
           {
            "marker": {
             "colorbar": {
              "outlinewidth": 0,
              "ticks": ""
             }
            },
            "type": "scattergeo"
           }
          ],
          "scattergl": [
           {
            "marker": {
             "colorbar": {
              "outlinewidth": 0,
              "ticks": ""
             }
            },
            "type": "scattergl"
           }
          ],
          "scattermap": [
           {
            "marker": {
             "colorbar": {
              "outlinewidth": 0,
              "ticks": ""
             }
            },
            "type": "scattermap"
           }
          ],
          "scattermapbox": [
           {
            "marker": {
             "colorbar": {
              "outlinewidth": 0,
              "ticks": ""
             }
            },
            "type": "scattermapbox"
           }
          ],
          "scatterpolar": [
           {
            "marker": {
             "colorbar": {
              "outlinewidth": 0,
              "ticks": ""
             }
            },
            "type": "scatterpolar"
           }
          ],
          "scatterpolargl": [
           {
            "marker": {
             "colorbar": {
              "outlinewidth": 0,
              "ticks": ""
             }
            },
            "type": "scatterpolargl"
           }
          ],
          "scatterternary": [
           {
            "marker": {
             "colorbar": {
              "outlinewidth": 0,
              "ticks": ""
             }
            },
            "type": "scatterternary"
           }
          ],
          "surface": [
           {
            "colorbar": {
             "outlinewidth": 0,
             "ticks": ""
            },
            "colorscale": [
             [
              0,
              "#0d0887"
             ],
             [
              0.1111111111111111,
              "#46039f"
             ],
             [
              0.2222222222222222,
              "#7201a8"
             ],
             [
              0.3333333333333333,
              "#9c179e"
             ],
             [
              0.4444444444444444,
              "#bd3786"
             ],
             [
              0.5555555555555556,
              "#d8576b"
             ],
             [
              0.6666666666666666,
              "#ed7953"
             ],
             [
              0.7777777777777778,
              "#fb9f3a"
             ],
             [
              0.8888888888888888,
              "#fdca26"
             ],
             [
              1,
              "#f0f921"
             ]
            ],
            "type": "surface"
           }
          ],
          "table": [
           {
            "cells": {
             "fill": {
              "color": "#EBF0F8"
             },
             "line": {
              "color": "white"
             }
            },
            "header": {
             "fill": {
              "color": "#C8D4E3"
             },
             "line": {
              "color": "white"
             }
            },
            "type": "table"
           }
          ]
         },
         "layout": {
          "annotationdefaults": {
           "arrowcolor": "#2a3f5f",
           "arrowhead": 0,
           "arrowwidth": 1
          },
          "autotypenumbers": "strict",
          "coloraxis": {
           "colorbar": {
            "outlinewidth": 0,
            "ticks": ""
           }
          },
          "colorscale": {
           "diverging": [
            [
             0,
             "#8e0152"
            ],
            [
             0.1,
             "#c51b7d"
            ],
            [
             0.2,
             "#de77ae"
            ],
            [
             0.3,
             "#f1b6da"
            ],
            [
             0.4,
             "#fde0ef"
            ],
            [
             0.5,
             "#f7f7f7"
            ],
            [
             0.6,
             "#e6f5d0"
            ],
            [
             0.7,
             "#b8e186"
            ],
            [
             0.8,
             "#7fbc41"
            ],
            [
             0.9,
             "#4d9221"
            ],
            [
             1,
             "#276419"
            ]
           ],
           "sequential": [
            [
             0,
             "#0d0887"
            ],
            [
             0.1111111111111111,
             "#46039f"
            ],
            [
             0.2222222222222222,
             "#7201a8"
            ],
            [
             0.3333333333333333,
             "#9c179e"
            ],
            [
             0.4444444444444444,
             "#bd3786"
            ],
            [
             0.5555555555555556,
             "#d8576b"
            ],
            [
             0.6666666666666666,
             "#ed7953"
            ],
            [
             0.7777777777777778,
             "#fb9f3a"
            ],
            [
             0.8888888888888888,
             "#fdca26"
            ],
            [
             1,
             "#f0f921"
            ]
           ],
           "sequentialminus": [
            [
             0,
             "#0d0887"
            ],
            [
             0.1111111111111111,
             "#46039f"
            ],
            [
             0.2222222222222222,
             "#7201a8"
            ],
            [
             0.3333333333333333,
             "#9c179e"
            ],
            [
             0.4444444444444444,
             "#bd3786"
            ],
            [
             0.5555555555555556,
             "#d8576b"
            ],
            [
             0.6666666666666666,
             "#ed7953"
            ],
            [
             0.7777777777777778,
             "#fb9f3a"
            ],
            [
             0.8888888888888888,
             "#fdca26"
            ],
            [
             1,
             "#f0f921"
            ]
           ]
          },
          "colorway": [
           "#636efa",
           "#EF553B",
           "#00cc96",
           "#ab63fa",
           "#FFA15A",
           "#19d3f3",
           "#FF6692",
           "#B6E880",
           "#FF97FF",
           "#FECB52"
          ],
          "font": {
           "color": "#2a3f5f"
          },
          "geo": {
           "bgcolor": "white",
           "lakecolor": "white",
           "landcolor": "#E5ECF6",
           "showlakes": true,
           "showland": true,
           "subunitcolor": "white"
          },
          "hoverlabel": {
           "align": "left"
          },
          "hovermode": "closest",
          "mapbox": {
           "style": "light"
          },
          "paper_bgcolor": "white",
          "plot_bgcolor": "#E5ECF6",
          "polar": {
           "angularaxis": {
            "gridcolor": "white",
            "linecolor": "white",
            "ticks": ""
           },
           "bgcolor": "#E5ECF6",
           "radialaxis": {
            "gridcolor": "white",
            "linecolor": "white",
            "ticks": ""
           }
          },
          "scene": {
           "xaxis": {
            "backgroundcolor": "#E5ECF6",
            "gridcolor": "white",
            "gridwidth": 2,
            "linecolor": "white",
            "showbackground": true,
            "ticks": "",
            "zerolinecolor": "white"
           },
           "yaxis": {
            "backgroundcolor": "#E5ECF6",
            "gridcolor": "white",
            "gridwidth": 2,
            "linecolor": "white",
            "showbackground": true,
            "ticks": "",
            "zerolinecolor": "white"
           },
           "zaxis": {
            "backgroundcolor": "#E5ECF6",
            "gridcolor": "white",
            "gridwidth": 2,
            "linecolor": "white",
            "showbackground": true,
            "ticks": "",
            "zerolinecolor": "white"
           }
          },
          "shapedefaults": {
           "line": {
            "color": "#2a3f5f"
           }
          },
          "ternary": {
           "aaxis": {
            "gridcolor": "white",
            "linecolor": "white",
            "ticks": ""
           },
           "baxis": {
            "gridcolor": "white",
            "linecolor": "white",
            "ticks": ""
           },
           "bgcolor": "#E5ECF6",
           "caxis": {
            "gridcolor": "white",
            "linecolor": "white",
            "ticks": ""
           }
          },
          "title": {
           "x": 0.05
          },
          "xaxis": {
           "automargin": true,
           "gridcolor": "white",
           "linecolor": "white",
           "ticks": "",
           "title": {
            "standoff": 15
           },
           "zerolinecolor": "white",
           "zerolinewidth": 2
          },
          "yaxis": {
           "automargin": true,
           "gridcolor": "white",
           "linecolor": "white",
           "ticks": "",
           "title": {
            "standoff": 15
           },
           "zerolinecolor": "white",
           "zerolinewidth": 2
          }
         }
        }
       }
      },
      "image/png": "[encoded data removed]"
     },
     "metadata": {},
     "output_type": "display_data"
    }
   ],
   "source": [
    "fig = px.scatter_3d(df,x='col1', y='col2', z='col3',color='label')\n",
    "fig.show()"
   ]
  },
  {
   "cell_type": "code",
   "execution_count": null,
   "id": "dd62681c-0d37-42bf-b101-52007ec9d610",
   "metadata": {},
   "outputs": [],
   "source": []
  }
 ],
 "metadata": {
  "kernelspec": {
   "display_name": "Python (myenv)",
   "language": "python",
   "name": "myenv"
  },
  "language_info": {
   "codemirror_mode": {
    "name": "ipython",
    "version": 3
   },
   "file_extension": ".py",
   "mimetype": "text/x-python",
   "name": "python",
   "nbconvert_exporter": "python",
   "pygments_lexer": "ipython3",
   "version": "3.11.13"
  }
 },
 "nbformat": 4,
 "nbformat_minor": 5
}
