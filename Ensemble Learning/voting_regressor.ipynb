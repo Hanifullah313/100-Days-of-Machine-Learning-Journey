{
 "cells": [
  {
   "cell_type": "code",
   "execution_count": 1,
   "id": "541e7236-14e0-4470-b5ff-466cf3fd145d",
   "metadata": {},
   "outputs": [
    {
     "name": "stdout",
     "output_type": "stream",
     "text": [
      "R² Score: 0.764\n",
      "RMSE: 0.556\n",
      "lr Mean R²: 0.553\n",
      "rf Mean R²: 0.656\n",
      "gbr Mean R²: 0.67\n",
      "Voting Regressor Mean R²: 0.676\n"
     ]
    }
   ],
   "source": [
    "# Import required libraries\n",
    "from sklearn.datasets import fetch_california_housing\n",
    "from sklearn.model_selection import train_test_split, cross_val_score\n",
    "from sklearn.linear_model import LinearRegression\n",
    "from sklearn.ensemble import RandomForestRegressor, GradientBoostingRegressor, VotingRegressor\n",
    "from sklearn.metrics import r2_score, mean_squared_error\n",
    "import numpy as np\n",
    "import pandas as pd\n",
    "\n",
    "# 1. Load the California housing dataset\n",
    "data = fetch_california_housing(as_frame=True)\n",
    "X = data.data\n",
    "y = data.target\n",
    "\n",
    "# 2. Split into training and testing sets\n",
    "X_train, X_test, y_train, y_test = train_test_split(X, y, test_size=0.2, random_state=42)\n",
    "\n",
    "# 3. Create individual regression models\n",
    "lr = LinearRegression()\n",
    "rf = RandomForestRegressor(random_state=42)\n",
    "gbr = GradientBoostingRegressor(random_state=42)\n",
    "\n",
    "# 4. Create a list of estimators (model name, model object)\n",
    "estimators = [\n",
    "    ('lr', lr),\n",
    "    ('rf', rf),\n",
    "    ('gbr', gbr)\n",
    "]\n",
    "\n",
    "# 5. Create a Voting Regressor\n",
    "voting_reg = VotingRegressor(estimators=estimators)\n",
    "\n",
    "# 6. Fit the model\n",
    "voting_reg.fit(X_train, y_train)\n",
    "\n",
    "# 7. Make predictions\n",
    "y_pred = voting_reg.predict(X_test)\n",
    "\n",
    "# 8. Evaluate performance\n",
    "r2 = r2_score(y_test, y_pred)\n",
    "rmse = np.sqrt(mean_squared_error(y_test, y_pred))\n",
    "\n",
    "print(f\"R² Score: {r2:.3f}\")\n",
    "print(f\"RMSE: {rmse:.3f}\")\n",
    "\n",
    "# 9. Optional: Compare individual model performance using cross-validation\n",
    "for name, model in estimators:\n",
    "    scores = cross_val_score(model, X, y, cv=5, scoring='r2')\n",
    "    print(f\"{name} Mean R²: {np.round(np.mean(scores), 3)}\")\n",
    "\n",
    "# 10. Voting Regressor cross-validation\n",
    "voting_scores = cross_val_score(voting_reg, X, y, cv=5, scoring='r2')\n",
    "print(f\"Voting Regressor Mean R²: {np.round(np.mean(voting_scores), 3)}\")\n"
   ]
  },
  {
   "cell_type": "code",
   "execution_count": null,
   "id": "40ebab1a-facc-4d38-b036-d2c709a73cd6",
   "metadata": {},
   "outputs": [],
   "source": []
  }
 ],
 "metadata": {
  "kernelspec": {
   "display_name": "Python (myenv)",
   "language": "python",
   "name": "myenv"
  },
  "language_info": {
   "codemirror_mode": {
    "name": "ipython",
    "version": 3
   },
   "file_extension": ".py",
   "mimetype": "text/x-python",
   "name": "python",
   "nbconvert_exporter": "python",
   "pygments_lexer": "ipython3",
   "version": "3.11.13"
  }
 },
 "nbformat": 4,
 "nbformat_minor": 5
}
