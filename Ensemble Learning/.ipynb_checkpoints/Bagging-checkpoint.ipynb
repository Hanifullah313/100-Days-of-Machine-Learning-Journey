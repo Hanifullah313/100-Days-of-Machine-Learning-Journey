{
 "cells": [
  {
   "cell_type": "code",
   "execution_count": 11,
   "id": "fd38febe-f09c-4ced-a291-c5fafb1d02dd",
   "metadata": {},
   "outputs": [
    {
     "data": {
      "text/html": [
       "<div>\n",
       "<style scoped>\n",
       "    .dataframe tbody tr th:only-of-type {\n",
       "        vertical-align: middle;\n",
       "    }\n",
       "\n",
       "    .dataframe tbody tr th {\n",
       "        vertical-align: top;\n",
       "    }\n",
       "\n",
       "    .dataframe thead th {\n",
       "        text-align: right;\n",
       "    }\n",
       "</style>\n",
       "<table border=\"1\" class=\"dataframe\">\n",
       "  <thead>\n",
       "    <tr style=\"text-align: right;\">\n",
       "      <th></th>\n",
       "      <th>sepal_length</th>\n",
       "      <th>sepal_width</th>\n",
       "      <th>petal_length</th>\n",
       "      <th>petal_width</th>\n",
       "      <th>species</th>\n",
       "    </tr>\n",
       "  </thead>\n",
       "  <tbody>\n",
       "    <tr>\n",
       "      <th>0</th>\n",
       "      <td>5.1</td>\n",
       "      <td>3.5</td>\n",
       "      <td>1.4</td>\n",
       "      <td>0.2</td>\n",
       "      <td>setosa</td>\n",
       "    </tr>\n",
       "    <tr>\n",
       "      <th>1</th>\n",
       "      <td>4.9</td>\n",
       "      <td>3.0</td>\n",
       "      <td>1.4</td>\n",
       "      <td>0.2</td>\n",
       "      <td>setosa</td>\n",
       "    </tr>\n",
       "    <tr>\n",
       "      <th>2</th>\n",
       "      <td>4.7</td>\n",
       "      <td>3.2</td>\n",
       "      <td>1.3</td>\n",
       "      <td>0.2</td>\n",
       "      <td>setosa</td>\n",
       "    </tr>\n",
       "    <tr>\n",
       "      <th>3</th>\n",
       "      <td>4.6</td>\n",
       "      <td>3.1</td>\n",
       "      <td>1.5</td>\n",
       "      <td>0.2</td>\n",
       "      <td>setosa</td>\n",
       "    </tr>\n",
       "    <tr>\n",
       "      <th>4</th>\n",
       "      <td>5.0</td>\n",
       "      <td>3.6</td>\n",
       "      <td>1.4</td>\n",
       "      <td>0.2</td>\n",
       "      <td>setosa</td>\n",
       "    </tr>\n",
       "  </tbody>\n",
       "</table>\n",
       "</div>"
      ],
      "text/plain": [
       "   sepal_length  sepal_width  petal_length  petal_width species\n",
       "0           5.1          3.5           1.4          0.2  setosa\n",
       "1           4.9          3.0           1.4          0.2  setosa\n",
       "2           4.7          3.2           1.3          0.2  setosa\n",
       "3           4.6          3.1           1.5          0.2  setosa\n",
       "4           5.0          3.6           1.4          0.2  setosa"
      ]
     },
     "execution_count": 11,
     "metadata": {},
     "output_type": "execute_result"
    }
   ],
   "source": [
    "import pandas as pd\n",
    "import numpy as np\n",
    "# Load the Iris dataset directly from a URL\n",
    "url = \"https://raw.githubusercontent.com/mwaskom/seaborn-data/master/iris.csv\"\n",
    "iris = pd.read_csv(url)\n",
    "\n",
    "# Display the first 5 rows\n",
    "iris.head()\n"
   ]
  },
  {
   "cell_type": "code",
   "execution_count": 24,
   "id": "221d1325-0307-434d-8190-6f30c1e93cb7",
   "metadata": {},
   "outputs": [
    {
     "data": {
      "text/html": [
       "<div>\n",
       "<style scoped>\n",
       "    .dataframe tbody tr th:only-of-type {\n",
       "        vertical-align: middle;\n",
       "    }\n",
       "\n",
       "    .dataframe tbody tr th {\n",
       "        vertical-align: top;\n",
       "    }\n",
       "\n",
       "    .dataframe thead th {\n",
       "        text-align: right;\n",
       "    }\n",
       "</style>\n",
       "<table border=\"1\" class=\"dataframe\">\n",
       "  <thead>\n",
       "    <tr style=\"text-align: right;\">\n",
       "      <th></th>\n",
       "      <th>sepal_length</th>\n",
       "      <th>sepal_width</th>\n",
       "      <th>petal_length</th>\n",
       "      <th>petal_width</th>\n",
       "      <th>species</th>\n",
       "    </tr>\n",
       "  </thead>\n",
       "  <tbody>\n",
       "    <tr>\n",
       "      <th>0</th>\n",
       "      <td>5.1</td>\n",
       "      <td>3.5</td>\n",
       "      <td>1.4</td>\n",
       "      <td>0.2</td>\n",
       "      <td>0</td>\n",
       "    </tr>\n",
       "    <tr>\n",
       "      <th>1</th>\n",
       "      <td>4.9</td>\n",
       "      <td>3.0</td>\n",
       "      <td>1.4</td>\n",
       "      <td>0.2</td>\n",
       "      <td>0</td>\n",
       "    </tr>\n",
       "    <tr>\n",
       "      <th>2</th>\n",
       "      <td>4.7</td>\n",
       "      <td>3.2</td>\n",
       "      <td>1.3</td>\n",
       "      <td>0.2</td>\n",
       "      <td>0</td>\n",
       "    </tr>\n",
       "    <tr>\n",
       "      <th>3</th>\n",
       "      <td>4.6</td>\n",
       "      <td>3.1</td>\n",
       "      <td>1.5</td>\n",
       "      <td>0.2</td>\n",
       "      <td>0</td>\n",
       "    </tr>\n",
       "    <tr>\n",
       "      <th>4</th>\n",
       "      <td>5.0</td>\n",
       "      <td>3.6</td>\n",
       "      <td>1.4</td>\n",
       "      <td>0.2</td>\n",
       "      <td>0</td>\n",
       "    </tr>\n",
       "  </tbody>\n",
       "</table>\n",
       "</div>"
      ],
      "text/plain": [
       "   sepal_length  sepal_width  petal_length  petal_width  species\n",
       "0           5.1          3.5           1.4          0.2        0\n",
       "1           4.9          3.0           1.4          0.2        0\n",
       "2           4.7          3.2           1.3          0.2        0\n",
       "3           4.6          3.1           1.5          0.2        0\n",
       "4           5.0          3.6           1.4          0.2        0"
      ]
     },
     "execution_count": 24,
     "metadata": {},
     "output_type": "execute_result"
    }
   ],
   "source": [
    "from sklearn.preprocessing import LabelEncoder\n",
    "encoder = LabelEncoder()\n",
    "iris[\"species\"] = encoder.fit_transform(iris[\"species\"])\n",
    "iris.head()"
   ]
  },
  {
   "cell_type": "code",
   "execution_count": 25,
   "id": "971d156d-a43b-4dbb-ac9b-a30eb01121dd",
   "metadata": {},
   "outputs": [
    {
     "data": {
      "text/html": [
       "<div>\n",
       "<style scoped>\n",
       "    .dataframe tbody tr th:only-of-type {\n",
       "        vertical-align: middle;\n",
       "    }\n",
       "\n",
       "    .dataframe tbody tr th {\n",
       "        vertical-align: top;\n",
       "    }\n",
       "\n",
       "    .dataframe thead th {\n",
       "        text-align: right;\n",
       "    }\n",
       "</style>\n",
       "<table border=\"1\" class=\"dataframe\">\n",
       "  <thead>\n",
       "    <tr style=\"text-align: right;\">\n",
       "      <th></th>\n",
       "      <th>sepal_length</th>\n",
       "      <th>sepal_width</th>\n",
       "      <th>species</th>\n",
       "    </tr>\n",
       "  </thead>\n",
       "  <tbody>\n",
       "    <tr>\n",
       "      <th>50</th>\n",
       "      <td>7.0</td>\n",
       "      <td>3.2</td>\n",
       "      <td>1</td>\n",
       "    </tr>\n",
       "    <tr>\n",
       "      <th>51</th>\n",
       "      <td>6.4</td>\n",
       "      <td>3.2</td>\n",
       "      <td>1</td>\n",
       "    </tr>\n",
       "    <tr>\n",
       "      <th>52</th>\n",
       "      <td>6.9</td>\n",
       "      <td>3.1</td>\n",
       "      <td>1</td>\n",
       "    </tr>\n",
       "    <tr>\n",
       "      <th>53</th>\n",
       "      <td>5.5</td>\n",
       "      <td>2.3</td>\n",
       "      <td>1</td>\n",
       "    </tr>\n",
       "    <tr>\n",
       "      <th>54</th>\n",
       "      <td>6.5</td>\n",
       "      <td>2.8</td>\n",
       "      <td>1</td>\n",
       "    </tr>\n",
       "  </tbody>\n",
       "</table>\n",
       "</div>"
      ],
      "text/plain": [
       "    sepal_length  sepal_width  species\n",
       "50           7.0          3.2        1\n",
       "51           6.4          3.2        1\n",
       "52           6.9          3.1        1\n",
       "53           5.5          2.3        1\n",
       "54           6.5          2.8        1"
      ]
     },
     "execution_count": 25,
     "metadata": {},
     "output_type": "execute_result"
    }
   ],
   "source": [
    "new_df = iris[iris['species'] != 0][['sepal_length','sepal_width','species']]\n",
    "new_df.head()"
   ]
  },
  {
   "cell_type": "code",
   "execution_count": 26,
   "id": "e7568047-66cf-4ccc-a00f-66372a7fbbf9",
   "metadata": {},
   "outputs": [],
   "source": [
    "X = iris.iloc[:,0:2]\n",
    "y = iris.iloc[:,-1]"
   ]
  },
  {
   "cell_type": "code",
   "execution_count": 27,
   "id": "97a4b9ea-277c-4070-a04d-64afc8495782",
   "metadata": {},
   "outputs": [],
   "source": [
    "from sklearn.linear_model import LogisticRegression\n",
    "from sklearn.neighbors import KNeighborsClassifier\n",
    "from sklearn.ensemble import RandomForestClassifier\n",
    "from sklearn.model_selection import cross_val_score"
   ]
  },
  {
   "cell_type": "code",
   "execution_count": 28,
   "id": "921821fc-04be-4dd5-9e05-7d9efe302c34",
   "metadata": {},
   "outputs": [],
   "source": [
    "clf1 = LogisticRegression()\n",
    "clf2 = RandomForestClassifier()\n",
    "clf3 = KNeighborsClassifier()"
   ]
  },
  {
   "cell_type": "code",
   "execution_count": 29,
   "id": "bee90c08-b48e-418c-a657-b3c1b12d10f9",
   "metadata": {},
   "outputs": [],
   "source": [
    "estimators = [('lr',clf1),('rf',clf2),('knn',clf3)]"
   ]
  },
  {
   "cell_type": "code",
   "execution_count": 30,
   "id": "7d7f366c-6af1-4e68-9519-de85766940d9",
   "metadata": {},
   "outputs": [
    {
     "name": "stdout",
     "output_type": "stream",
     "text": [
      "lr 0.81\n",
      "rf 0.73\n",
      "knn 0.76\n"
     ]
    }
   ],
   "source": [
    "for estimator in estimators:\n",
    "    x = cross_val_score(estimator[1],X,y,cv=10,scoring='accuracy')\n",
    "    print(estimator[0],np.round(np.mean(x),2))"
   ]
  },
  {
   "cell_type": "code",
   "execution_count": 31,
   "id": "0d09a519-5878-4897-9674-8c2da5061174",
   "metadata": {},
   "outputs": [],
   "source": [
    "from sklearn.ensemble import VotingClassifier"
   ]
  },
  {
   "cell_type": "code",
   "execution_count": 32,
   "id": "ea712805-49b6-4716-ab36-04a43d9040f3",
   "metadata": {},
   "outputs": [
    {
     "name": "stdout",
     "output_type": "stream",
     "text": [
      "0.77\n"
     ]
    }
   ],
   "source": [
    "vc = VotingClassifier(estimators=estimators,voting='hard')\n",
    "x = cross_val_score(vc,X,y,cv=10,scoring='accuracy')\n",
    "print(np.round(np.mean(x),2))"
   ]
  },
  {
   "cell_type": "code",
   "execution_count": 33,
   "id": "ba141edd-af4b-4d99-9a65-b9706fc7e234",
   "metadata": {},
   "outputs": [
    {
     "name": "stdout",
     "output_type": "stream",
     "text": [
      "0.78\n"
     ]
    }
   ],
   "source": [
    "vc1 = VotingClassifier(estimators=estimators,voting='soft')\n",
    "x = cross_val_score(vc1,X,y,cv=10,scoring='accuracy')\n",
    "print(np.round(np.mean(x),2))"
   ]
  },
  {
   "cell_type": "code",
   "execution_count": 34,
   "id": "f122dd84-5789-42bd-b06e-bf689c938a53",
   "metadata": {},
   "outputs": [
    {
     "name": "stdout",
     "output_type": "stream",
     "text": [
      "for i=1,j=1,k=1 0.77\n",
      "for i=1,j=1,k=2 0.77\n",
      "for i=1,j=1,k=3 0.75\n",
      "for i=1,j=2,k=1 0.75\n",
      "for i=1,j=2,k=2 0.76\n",
      "for i=1,j=2,k=3 0.76\n",
      "for i=1,j=3,k=1 0.74\n",
      "for i=1,j=3,k=2 0.75\n",
      "for i=1,j=3,k=3 0.76\n",
      "for i=2,j=1,k=1 0.77\n",
      "for i=2,j=1,k=2 0.77\n",
      "for i=2,j=1,k=3 0.77\n",
      "for i=2,j=2,k=1 0.77\n",
      "for i=2,j=2,k=2 0.77\n",
      "for i=2,j=2,k=3 0.77\n",
      "for i=2,j=3,k=1 0.75\n",
      "for i=2,j=3,k=2 0.76\n",
      "for i=2,j=3,k=3 0.77\n",
      "for i=3,j=1,k=1 0.79\n",
      "for i=3,j=1,k=2 0.78\n",
      "for i=3,j=1,k=3 0.79\n",
      "for i=3,j=2,k=1 0.77\n",
      "for i=3,j=2,k=2 0.77\n",
      "for i=3,j=2,k=3 0.76\n",
      "for i=3,j=3,k=1 0.77\n",
      "for i=3,j=3,k=2 0.77\n",
      "for i=3,j=3,k=3 0.77\n"
     ]
    }
   ],
   "source": [
    "for i in range(1,4):\n",
    "    for j in range(1,4):\n",
    "        for k in range(1,4):\n",
    "            vc = VotingClassifier(estimators=estimators,voting='soft',weights=[i,j,k])\n",
    "            x = cross_val_score(vc,X,y,cv=10,scoring='accuracy')\n",
    "            print(\"for i={},j={},k={}\".format(i,j,k),np.round(np.mean(x),2))"
   ]
  },
  {
   "cell_type": "code",
   "execution_count": 35,
   "id": "744e0de0-f1f0-413a-90eb-f9c82c549361",
   "metadata": {},
   "outputs": [
    {
     "name": "stdout",
     "output_type": "stream",
     "text": [
      "svm1 0.85\n",
      "svm2 0.85\n",
      "svm3 0.89\n",
      "svm4 0.81\n",
      "svm5 0.86\n"
     ]
    }
   ],
   "source": [
    "from sklearn.datasets import make_classification\n",
    "from sklearn.svm import SVC\n",
    "X, y = make_classification(n_samples=1000, n_features=20, n_informative=15, n_redundant=5, random_state=2)\n",
    "\n",
    "svm1 = SVC(probability=True, kernel='poly', degree=1)\n",
    "svm2 = SVC(probability=True, kernel='poly', degree=2)\n",
    "svm3 = SVC(probability=True, kernel='poly', degree=3)\n",
    "svm4 = SVC(probability=True, kernel='poly', degree=4)\n",
    "svm5 = SVC(probability=True, kernel='poly', degree=5)\n",
    "\n",
    "estimators = [('svm1',svm1),('svm2',svm2),('svm3',svm3),('svm4',svm4),('svm5',svm5)]\n",
    "\n",
    "for estimator in estimators:\n",
    "    x = cross_val_score(estimator[1],X,y,cv=10,scoring='accuracy')\n",
    "    print(estimator[0],np.round(np.mean(x),2))"
   ]
  },
  {
   "cell_type": "code",
   "execution_count": null,
   "id": "9f78e1ed-ba3b-46ce-aefb-55da12d480da",
   "metadata": {},
   "outputs": [],
   "source": []
  }
 ],
 "metadata": {
  "kernelspec": {
   "display_name": "Python (myenv)",
   "language": "python",
   "name": "myenv"
  },
  "language_info": {
   "codemirror_mode": {
    "name": "ipython",
    "version": 3
   },
   "file_extension": ".py",
   "mimetype": "text/x-python",
   "name": "python",
   "nbconvert_exporter": "python",
   "pygments_lexer": "ipython3",
   "version": "3.11.13"
  }
 },
 "nbformat": 4,
 "nbformat_minor": 5
}
