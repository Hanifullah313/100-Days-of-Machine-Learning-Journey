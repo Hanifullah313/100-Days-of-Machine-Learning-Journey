{
 "cells": [
  {
   "cell_type": "code",
   "execution_count": 1,
   "id": "ddce31c8-4d3a-4e5a-b320-a60be3d1a0e4",
   "metadata": {},
   "outputs": [],
   "source": [
    "import pandas as pd\n",
    "import numpy as np\n",
    "from sklearn.impute import SimpleImputer\n",
    "from sklearn.compose import ColumnTransformer\n",
    "from sklearn.model_selection import train_test_split\n",
    "import matplotlib.pyplot as plt\n",
    "df = pd.read_csv(\"titanic_toy.csv\")\n",
    "x= df.drop(columns =\"Survived\")\n",
    "y=df[\"Survived\"]\n",
    "x_train,x_test,y_train,y_test=train_test_split(x,y,test_size=0.2, random_state =42)"
   ]
  },
  {
   "cell_type": "code",
   "execution_count": 5,
   "id": "9b18a639-9bbb-49ed-a92e-fff7a8aa1f03",
   "metadata": {},
   "outputs": [],
   "source": [
    "x_train[\"age_imputed\"]=x_train[\"Age\"]\n",
    "x_test[\"age_imputed\"]=x_test[\"Age\"]"
   ]
  },
  {
   "cell_type": "code",
   "execution_count": 6,
   "id": "53453f21-2be5-4f47-8fde-75cd209b7f56",
   "metadata": {},
   "outputs": [
    {
     "data": {
      "text/html": [
       "<div>\n",
       "<style scoped>\n",
       "    .dataframe tbody tr th:only-of-type {\n",
       "        vertical-align: middle;\n",
       "    }\n",
       "\n",
       "    .dataframe tbody tr th {\n",
       "        vertical-align: top;\n",
       "    }\n",
       "\n",
       "    .dataframe thead th {\n",
       "        text-align: right;\n",
       "    }\n",
       "</style>\n",
       "<table border=\"1\" class=\"dataframe\">\n",
       "  <thead>\n",
       "    <tr style=\"text-align: right;\">\n",
       "      <th></th>\n",
       "      <th>Age</th>\n",
       "      <th>Fare</th>\n",
       "      <th>Family</th>\n",
       "      <th>age_imputed</th>\n",
       "    </tr>\n",
       "  </thead>\n",
       "  <tbody>\n",
       "    <tr>\n",
       "      <th>331</th>\n",
       "      <td>45.5</td>\n",
       "      <td>28.5000</td>\n",
       "      <td>0</td>\n",
       "      <td>45.5</td>\n",
       "    </tr>\n",
       "    <tr>\n",
       "      <th>733</th>\n",
       "      <td>23.0</td>\n",
       "      <td>13.0000</td>\n",
       "      <td>0</td>\n",
       "      <td>23.0</td>\n",
       "    </tr>\n",
       "    <tr>\n",
       "      <th>382</th>\n",
       "      <td>32.0</td>\n",
       "      <td>7.9250</td>\n",
       "      <td>0</td>\n",
       "      <td>32.0</td>\n",
       "    </tr>\n",
       "    <tr>\n",
       "      <th>704</th>\n",
       "      <td>26.0</td>\n",
       "      <td>7.8542</td>\n",
       "      <td>1</td>\n",
       "      <td>26.0</td>\n",
       "    </tr>\n",
       "    <tr>\n",
       "      <th>813</th>\n",
       "      <td>6.0</td>\n",
       "      <td>31.2750</td>\n",
       "      <td>6</td>\n",
       "      <td>6.0</td>\n",
       "    </tr>\n",
       "    <tr>\n",
       "      <th>...</th>\n",
       "      <td>...</td>\n",
       "      <td>...</td>\n",
       "      <td>...</td>\n",
       "      <td>...</td>\n",
       "    </tr>\n",
       "    <tr>\n",
       "      <th>106</th>\n",
       "      <td>21.0</td>\n",
       "      <td>7.6500</td>\n",
       "      <td>0</td>\n",
       "      <td>21.0</td>\n",
       "    </tr>\n",
       "    <tr>\n",
       "      <th>270</th>\n",
       "      <td>NaN</td>\n",
       "      <td>31.0000</td>\n",
       "      <td>0</td>\n",
       "      <td>NaN</td>\n",
       "    </tr>\n",
       "    <tr>\n",
       "      <th>860</th>\n",
       "      <td>41.0</td>\n",
       "      <td>NaN</td>\n",
       "      <td>2</td>\n",
       "      <td>41.0</td>\n",
       "    </tr>\n",
       "    <tr>\n",
       "      <th>435</th>\n",
       "      <td>14.0</td>\n",
       "      <td>120.0000</td>\n",
       "      <td>3</td>\n",
       "      <td>14.0</td>\n",
       "    </tr>\n",
       "    <tr>\n",
       "      <th>102</th>\n",
       "      <td>21.0</td>\n",
       "      <td>77.2875</td>\n",
       "      <td>1</td>\n",
       "      <td>21.0</td>\n",
       "    </tr>\n",
       "  </tbody>\n",
       "</table>\n",
       "<p>712 rows × 4 columns</p>\n",
       "</div>"
      ],
      "text/plain": [
       "      Age      Fare  Family  age_imputed\n",
       "331  45.5   28.5000       0         45.5\n",
       "733  23.0   13.0000       0         23.0\n",
       "382  32.0    7.9250       0         32.0\n",
       "704  26.0    7.8542       1         26.0\n",
       "813   6.0   31.2750       6          6.0\n",
       "..    ...       ...     ...          ...\n",
       "106  21.0    7.6500       0         21.0\n",
       "270   NaN   31.0000       0          NaN\n",
       "860  41.0       NaN       2         41.0\n",
       "435  14.0  120.0000       3         14.0\n",
       "102  21.0   77.2875       1         21.0\n",
       "\n",
       "[712 rows x 4 columns]"
      ]
     },
     "execution_count": 6,
     "metadata": {},
     "output_type": "execute_result"
    }
   ],
   "source": [
    "x_train"
   ]
  },
  {
   "cell_type": "code",
   "execution_count": 7,
   "id": "bee3a4d3-649c-4ea6-8d9e-8f1b0c94e7e1",
   "metadata": {},
   "outputs": [],
   "source": [
    "# Impute missing Age values in training data\n",
    "x_train.loc[x_train['age_imputed'].isnull(), 'age_imputed'] = (\n",
    "    x_train['Age'].dropna().sample(x_train['Age'].isnull().sum()).values\n",
    ")\n",
    "\n",
    "# Impute missing Age values in test data\n",
    "x_test.loc[x_test['age_imputed'].isnull(), 'age_imputed'] = (\n",
    "    x_train['Age'].dropna().sample(x_test['Age'].isnull().sum()).values\n",
    ")\n"
   ]
  },
  {
   "cell_type": "code",
   "execution_count": 9,
   "id": "8138e4fd-9db4-497f-a5ee-71ab00a477e3",
   "metadata": {},
   "outputs": [
    {
     "data": {
      "text/plain": [
       "FireplaceQu    47.260274\n",
       "GarageQual      5.547945\n",
       "SalePrice       0.000000\n",
       "dtype: float64"
      ]
     },
     "execution_count": 9,
     "metadata": {},
     "output_type": "execute_result"
    }
   ],
   "source": [
    "df = pd.read_csv(\"train.csv\")\n",
    "\n",
    "df = pd.read_csv(\"train.csv\" , usecols = [\"GarageQual\" , \"FireplaceQu\" , \"SalePrice\"])\n",
    "x= df.drop(columns =\"SalePrice\")\n",
    "y=df[\"SalePrice\"]\n",
    "x_train,x_test,y_train,y_test=train_test_split(x,y,test_size=0.2, random_state =42)\n",
    "df.isnull().mean()*100"
   ]
  },
  {
   "cell_type": "code",
   "execution_count": 10,
   "id": "e5733da0-3cf3-4def-81c7-8cc3c17d27dc",
   "metadata": {},
   "outputs": [],
   "source": [
    "x_train[\"FireplaceQu_imputed\"]=x_train[\"FireplaceQu\"]\n",
    "x_test[\"FireplaceQu_imputed\"]=x_test[\"FireplaceQu\"]\n",
    "x_train[\"GarageQual_imputed\"]=x_train[\"GarageQual\"]\n",
    "x_test[\"GarageQual_imputed\"]=x_test[\"GarageQual\"]"
   ]
  },
  {
   "cell_type": "code",
   "execution_count": 16,
   "id": "852630d8-d56e-4258-9f7c-243fd99920cf",
   "metadata": {},
   "outputs": [],
   "source": [
    "# For FireplaceQu\n",
    "n_missing_train = x_train['FireplaceQu_imputed'].isnull().sum()\n",
    "x_train.loc[x_train['FireplaceQu_imputed'].isnull(), 'FireplaceQu_imputed'] = (\n",
    "    x_train['FireplaceQu'].dropna().sample(n_missing_train, replace=True).values\n",
    ")\n",
    "\n",
    "n_missing_test = x_test['FireplaceQu_imputed'].isnull().sum()\n",
    "x_test.loc[x_test['FireplaceQu_imputed'].isnull(), 'FireplaceQu_imputed'] = (\n",
    "    x_train['FireplaceQu'].dropna().sample(n_missing_test, replace=True).values\n",
    ")\n",
    "\n",
    "# For GarageQual\n",
    "n_missing_train = x_train['GarageQual_imputed'].isnull().sum()\n",
    "x_train.loc[x_train['GarageQual_imputed'].isnull(), 'GarageQual_imputed'] = (\n",
    "    x_train['GarageQual'].dropna().sample(n_missing_train, replace=True).values\n",
    ")\n",
    "\n",
    "n_missing_test = x_test['GarageQual_imputed'].isnull().sum()\n",
    "x_test.loc[x_test['GarageQual_imputed'].isnull(), 'GarageQual_imputed'] = (\n",
    "    x_train['GarageQual'].dropna().sample(n_missing_test, replace=True).values\n",
    ")\n"
   ]
  },
  {
   "cell_type": "code",
   "execution_count": null,
   "id": "3bb9c066-0756-47aa-b41c-d7df3f10c299",
   "metadata": {},
   "outputs": [],
   "source": []
  }
 ],
 "metadata": {
  "kernelspec": {
   "display_name": "Python (myenv)",
   "language": "python",
   "name": "myenv"
  },
  "language_info": {
   "codemirror_mode": {
    "name": "ipython",
    "version": 3
   },
   "file_extension": ".py",
   "mimetype": "text/x-python",
   "name": "python",
   "nbconvert_exporter": "python",
   "pygments_lexer": "ipython3",
   "version": "3.11.13"
  }
 },
 "nbformat": 4,
 "nbformat_minor": 5
}
