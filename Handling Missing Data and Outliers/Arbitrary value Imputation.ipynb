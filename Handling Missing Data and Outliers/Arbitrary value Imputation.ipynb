{
 "cells": [
  {
   "cell_type": "code",
   "execution_count": 1,
   "id": "293c90a1-6fe0-4331-aec6-a70bc7fcfa14",
   "metadata": {},
   "outputs": [],
   "source": [
    "import pandas as pd\n",
    "import numpy as np\n",
    "from sklearn.impute import SimpleImputer\n",
    "from sklearn.compose import ColumnTransformer\n",
    "from sklearn.model_selection import train_test_split\n",
    "import matplotlib.pyplot as plt\n",
    "df = pd.read_csv(\"titanic_toy.csv\")\n",
    "x= df.drop(columns =\"Survived\")\n",
    "y=df[\"Survived\"]\n",
    "x_train,x_test,y_train,y_test=train_test_split(x,y,test_size=0.2, random_state =42)"
   ]
  },
  {
   "cell_type": "code",
   "execution_count": 2,
   "id": "138f0885-8a7e-4c04-a30c-f9d5871c64d0",
   "metadata": {},
   "outputs": [],
   "source": [
    "x_train[\"age_99\"]=x_train[\"Age\"].fillna(99)"
   ]
  },
  {
   "cell_type": "code",
   "execution_count": null,
   "id": "27f661ff-6d0e-4492-9f7c-2a0baed0b661",
   "metadata": {},
   "outputs": [],
   "source": []
  }
 ],
 "metadata": {
  "kernelspec": {
   "display_name": "Python (myenv)",
   "language": "python",
   "name": "myenv"
  },
  "language_info": {
   "codemirror_mode": {
    "name": "ipython",
    "version": 3
   },
   "file_extension": ".py",
   "mimetype": "text/x-python",
   "name": "python",
   "nbconvert_exporter": "python",
   "pygments_lexer": "ipython3",
   "version": "3.11.13"
  }
 },
 "nbformat": 4,
 "nbformat_minor": 5
}
