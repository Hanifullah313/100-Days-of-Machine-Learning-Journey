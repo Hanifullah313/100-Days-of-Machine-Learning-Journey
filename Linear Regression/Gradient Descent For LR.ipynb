{
 "cells": [
  {
   "cell_type": "code",
   "execution_count": 1,
   "id": "b5789ce6-5d83-4f42-ae7d-7a8821f161d4",
   "metadata": {},
   "outputs": [],
   "source": [
    "import numpy as np\n",
    "\n",
    "# Sample data (x: input, y: target)\n",
    "x = np.array([1, 2, 3, 4, 5], dtype=float)\n",
    "y = np.array([2, 4, 6, 8, 10], dtype=float)  # y = 2x (perfect line)\n"
   ]
  },
  {
   "cell_type": "code",
   "execution_count": 3,
   "id": "39ae4128-ec9b-4b80-a972-dbd0d646434f",
   "metadata": {},
   "outputs": [],
   "source": [
    "# Hyperparameters\n",
    "m = 0.0   # initial slope\n",
    "b = 0.0   # initial intercept\n",
    "alpha = 0.01  # learning rate\n",
    "epochs = 1000  # number of iterations\n",
    "n = len(x)"
   ]
  },
  {
   "cell_type": "code",
   "execution_count": 4,
   "id": "04da4d2d-8109-44db-9b26-52d463ea30b3",
   "metadata": {},
   "outputs": [],
   "source": [
    "for _ in range(epochs):\n",
    "    # 1. Make predictions using current m and b\n",
    "    y_pred = m * x + b\n",
    "    \n",
    "    # 2. Calculate gradients (derivatives of loss function)\n",
    "    # Formula for slope gradient: (-2/n) * Σ xi(yi - (mxi + b))\n",
    "    dm = (-2/n) * np.sum(x * (y - y_pred))\n",
    "    \n",
    "    # Formula for intercept gradient: (-2/n) * Σ (yi - (mxi + b))\n",
    "    db = (-2/n) * np.sum(y - y_pred)\n",
    "    \n",
    "    # 3. Update parameters (move m and b in the direction that reduces error)\n",
    "    m -= alpha * dm\n",
    "    b -= alpha * db"
   ]
  },
  {
   "cell_type": "code",
   "execution_count": 5,
   "id": "f1b28ff2-022e-4e38-9029-fdc80dc6c756",
   "metadata": {},
   "outputs": [
    {
     "name": "stdout",
     "output_type": "stream",
     "text": [
      "Final slope (m): 1.9951803506719779\n",
      "Final intercept (b): 0.017400463340610635\n"
     ]
    }
   ],
   "source": [
    "# Step 5: Print results\n",
    "# ---------------------------\n",
    "print(f\"Final slope (m): {m}\")\n",
    "print(f\"Final intercept (b): {b}\")"
   ]
  },
  {
   "cell_type": "code",
   "execution_count": null,
   "id": "db397745-f25f-4fb2-8227-c043512d365e",
   "metadata": {},
   "outputs": [],
   "source": []
  }
 ],
 "metadata": {
  "kernelspec": {
   "display_name": "Python (myenv)",
   "language": "python",
   "name": "myenv"
  },
  "language_info": {
   "codemirror_mode": {
    "name": "ipython",
    "version": 3
   },
   "file_extension": ".py",
   "mimetype": "text/x-python",
   "name": "python",
   "nbconvert_exporter": "python",
   "pygments_lexer": "ipython3",
   "version": "3.11.13"
  }
 },
 "nbformat": 4,
 "nbformat_minor": 5
}
