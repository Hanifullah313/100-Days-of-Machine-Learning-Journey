{
 "cells": [
  {
   "cell_type": "code",
   "execution_count": null,
   "id": "332c9c88",
   "metadata": {},
   "outputs": [
    {
     "name": "stdout",
     "output_type": "stream",
     "text": [
      "[['A Light in the Attic', 'Â£51.77', 'In stock'], ['Tipping the Velvet', 'Â£53.74', 'In stock'], ['Soumission', 'Â£50.10', 'In stock'], ['Sharp Objects', 'Â£47.82', 'In stock'], ['Sapiens: A Brief History of Humankind', 'Â£54.23', 'In stock'], ['The Requiem Red', 'Â£22.65', 'In stock'], ['The Dirty Little Secrets of Getting Your Dream Job', 'Â£33.34', 'In stock'], ['The Coming Woman: A Novel Based on the Life of the Infamous Feminist, Victoria Woodhull', 'Â£17.93', 'In stock'], ['The Boys in the Boat: Nine Americans and Their Epic Quest for Gold at the 1936 Berlin Olympics', 'Â£22.60', 'In stock'], ['The Black Maria', 'Â£52.15', 'In stock'], ['Starving Hearts (Triangular Trade Trilogy, #1)', 'Â£13.99', 'In stock'], [\"Shakespeare's Sonnets\", 'Â£20.66', 'In stock'], ['Set Me Free', 'Â£17.46', 'In stock'], [\"Scott Pilgrim's Precious Little Life (Scott Pilgrim #1)\", 'Â£52.29', 'In stock'], ['Rip it Up and Start Again', 'Â£35.02', 'In stock'], ['Our Band Could Be Your Life: Scenes from the American Indie Underground, 1981-1991', 'Â£57.25', 'In stock'], ['Olio', 'Â£23.88', 'In stock'], ['Mesaerion: The Best Science Fiction Stories 1800-1849', 'Â£37.59', 'In stock'], ['Libertarianism for Beginners', 'Â£51.33', 'In stock'], [\"It's Only the Himalayas\", 'Â£45.17', 'In stock']]\n"
     ]
    }
   ],
   "source": [
    "import requests\n",
    "from bs4 import BeautifulSoup\n",
    "import pandas as pd\n",
    "\n",
    "header = {\"User-agent\": \"Mozilla/5.0\"}\n",
    "webpage = requests.get(\"https://books.toscrape.com\", headers=header).text\n",
    "soup = BeautifulSoup(webpage, 'html.parser')\n",
    "\n",
    "books = soup.select(\"article.product_pod\")\n",
    "\n",
    "data = []\n",
    "for book in books:\n",
    "    title = book.h3.a[\"title\"]\n",
    "    price = book.select_one(\"p.price_color\").text\n",
    "    availability = book.select_one(\"p.availability\").text.strip()\n",
    "    data.append([title, price, availability])\n",
    "\n",
    "df = pd.DataFrame(data, columns=[\"Title\", \"Price\", \"Availability\"])\n",
    "#print(df)\n",
    "df.to_csv(\"books.csv\", index=False)\n",
    "\n"
   ]
  }
 ],
 "metadata": {
  "kernelspec": {
   "display_name": " Python STD Lib",
   "language": "python",
   "name": "numpy"
  },
  "language_info": {
   "codemirror_mode": {
    "name": "ipython",
    "version": 3
   },
   "file_extension": ".py",
   "mimetype": "text/x-python",
   "name": "python",
   "nbconvert_exporter": "python",
   "pygments_lexer": "ipython3",
   "version": "3.11.13"
  }
 },
 "nbformat": 4,
 "nbformat_minor": 5
}
