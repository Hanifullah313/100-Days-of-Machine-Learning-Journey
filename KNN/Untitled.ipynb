{
 "cells": [
  {
   "cell_type": "code",
   "execution_count": 1,
   "id": "657154f3-7212-4a51-9842-496b1f3f4941",
   "metadata": {},
   "outputs": [
    {
     "name": "stdout",
     "output_type": "stream",
     "text": [
      "K=1: Accuracy = 0.978\n",
      "K=2: Accuracy = 0.978\n",
      "K=3: Accuracy = 1.000\n",
      "K=4: Accuracy = 0.978\n",
      "K=5: Accuracy = 1.000\n",
      "K=6: Accuracy = 1.000\n",
      "K=7: Accuracy = 1.000\n",
      "K=8: Accuracy = 1.000\n",
      "K=9: Accuracy = 1.000\n",
      "K=10: Accuracy = 1.000\n",
      "K=11: Accuracy = 1.000\n",
      "K=12: Accuracy = 1.000\n",
      "K=13: Accuracy = 1.000\n",
      "K=14: Accuracy = 1.000\n",
      "K=15: Accuracy = 1.000\n",
      "K=16: Accuracy = 1.000\n",
      "K=17: Accuracy = 1.000\n",
      "K=18: Accuracy = 0.978\n",
      "K=19: Accuracy = 1.000\n",
      "K=20: Accuracy = 1.000\n",
      "\n",
      "All Accuracies:\n",
      "K=1 -> Accuracy: 0.978\n",
      "K=2 -> Accuracy: 0.978\n",
      "K=3 -> Accuracy: 1.000\n",
      "K=4 -> Accuracy: 0.978\n",
      "K=5 -> Accuracy: 1.000\n",
      "K=6 -> Accuracy: 1.000\n",
      "K=7 -> Accuracy: 1.000\n",
      "K=8 -> Accuracy: 1.000\n",
      "K=9 -> Accuracy: 1.000\n",
      "K=10 -> Accuracy: 1.000\n",
      "K=11 -> Accuracy: 1.000\n",
      "K=12 -> Accuracy: 1.000\n",
      "K=13 -> Accuracy: 1.000\n",
      "K=14 -> Accuracy: 1.000\n",
      "K=15 -> Accuracy: 1.000\n",
      "K=16 -> Accuracy: 1.000\n",
      "K=17 -> Accuracy: 1.000\n",
      "K=18 -> Accuracy: 0.978\n",
      "K=19 -> Accuracy: 1.000\n",
      "K=20 -> Accuracy: 1.000\n"
     ]
    }
   ],
   "source": [
    "# Importing libraries\n",
    "from sklearn.datasets import load_iris\n",
    "from sklearn.model_selection import train_test_split\n",
    "from sklearn.preprocessing import StandardScaler\n",
    "from sklearn.neighbors import KNeighborsClassifier\n",
    "from sklearn.metrics import accuracy_score\n",
    "\n",
    "# 1. Load the built-in dataset (Iris)\n",
    "data = load_iris()\n",
    "X = data.data\n",
    "y = data.target\n",
    "\n",
    "# 2. Split into train and test sets\n",
    "X_train, X_test, y_train, y_test = train_test_split(\n",
    "    X, y, test_size=0.3, random_state=42\n",
    ")\n",
    "\n",
    "# 3. Standardize the features (important for KNN)\n",
    "scaler = StandardScaler()\n",
    "X_train = scaler.fit_transform(X_train)\n",
    "X_test = scaler.transform(X_test)\n",
    "\n",
    "# 4. Loop through different values of K and store accuracies\n",
    "accuracies = {}\n",
    "\n",
    "for k in range(1, 21):  # Try k = 1 to 20\n",
    "    knn = KNeighborsClassifier(n_neighbors=k)\n",
    "    knn.fit(X_train, y_train)\n",
    "    y_pred = knn.predict(X_test)\n",
    "    acc = accuracy_score(y_test, y_pred)\n",
    "    accuracies[k] = acc\n",
    "    print(f\"K={k}: Accuracy = {acc:.3f}\")\n",
    "\n",
    "# 5. Print all accuracies nicely\n",
    "print(\"\\nAll Accuracies:\")\n",
    "for k, acc in accuracies.items():\n",
    "    print(f\"K={k} -> Accuracy: {acc:.3f}\")\n"
   ]
  },
  {
   "cell_type": "code",
   "execution_count": null,
   "id": "27d7694e-63d9-4600-915e-108dde347455",
   "metadata": {},
   "outputs": [],
   "source": []
  }
 ],
 "metadata": {
  "kernelspec": {
   "display_name": "Python (myenv)",
   "language": "python",
   "name": "myenv"
  },
  "language_info": {
   "codemirror_mode": {
    "name": "ipython",
    "version": 3
   },
   "file_extension": ".py",
   "mimetype": "text/x-python",
   "name": "python",
   "nbconvert_exporter": "python",
   "pygments_lexer": "ipython3",
   "version": "3.11.13"
  }
 },
 "nbformat": 4,
 "nbformat_minor": 5
}
